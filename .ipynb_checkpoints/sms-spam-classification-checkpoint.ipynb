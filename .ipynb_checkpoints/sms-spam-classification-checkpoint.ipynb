{
 "cells": [
  {
   "cell_type": "code",
   "execution_count": null,
   "id": "397feb50",
   "metadata": {
    "_cell_guid": "b1076dfc-b9ad-4769-8c92-a6c4dae69d19",
    "_uuid": "8f2839f25d086af736a60e9eeb907d3b93b6e0e5",
    "papermill": {
     "duration": 0.008165,
     "end_time": "2022-07-10T05:32:41.449296",
     "exception": false,
     "start_time": "2022-07-10T05:32:41.441131",
     "status": "completed"
    },
    "tags": []
   },
   "outputs": [],
   "source": []
  },
  {
   "cell_type": "code",
   "execution_count": 1,
   "id": "eb125d46",
   "metadata": {
    "execution": {
     "iopub.execute_input": "2022-07-10T05:32:41.466308Z",
     "iopub.status.busy": "2022-07-10T05:32:41.465466Z",
     "iopub.status.idle": "2022-07-10T05:32:41.478624Z",
     "shell.execute_reply": "2022-07-10T05:32:41.477883Z"
    },
    "papermill": {
     "duration": 0.024103,
     "end_time": "2022-07-10T05:32:41.480763",
     "exception": false,
     "start_time": "2022-07-10T05:32:41.456660",
     "status": "completed"
    },
    "tags": []
   },
   "outputs": [],
   "source": [
    "import pandas as pd\n",
    "import numpy as np"
   ]
  },
  {
   "cell_type": "code",
   "execution_count": 2,
   "id": "9a54b98c",
   "metadata": {
    "execution": {
     "iopub.execute_input": "2022-07-10T05:32:41.497666Z",
     "iopub.status.busy": "2022-07-10T05:32:41.497157Z",
     "iopub.status.idle": "2022-07-10T05:32:41.528344Z",
     "shell.execute_reply": "2022-07-10T05:32:41.527359Z"
    },
    "papermill": {
     "duration": 0.042429,
     "end_time": "2022-07-10T05:32:41.531011",
     "exception": false,
     "start_time": "2022-07-10T05:32:41.488582",
     "status": "completed"
    },
    "tags": []
   },
   "outputs": [],
   "source": [
    "df = pd.read_csv('/kaggle/input/sms-spam-collection-dataset/spam.csv',encoding='latin-1')"
   ]
  },
  {
   "cell_type": "code",
   "execution_count": 3,
   "id": "27079123",
   "metadata": {
    "execution": {
     "iopub.execute_input": "2022-07-10T05:32:41.547865Z",
     "iopub.status.busy": "2022-07-10T05:32:41.547245Z",
     "iopub.status.idle": "2022-07-10T05:32:41.568431Z",
     "shell.execute_reply": "2022-07-10T05:32:41.567737Z"
    },
    "papermill": {
     "duration": 0.032025,
     "end_time": "2022-07-10T05:32:41.570569",
     "exception": false,
     "start_time": "2022-07-10T05:32:41.538544",
     "status": "completed"
    },
    "tags": []
   },
   "outputs": [
    {
     "data": {
      "text/html": [
       "<div>\n",
       "<style scoped>\n",
       "    .dataframe tbody tr th:only-of-type {\n",
       "        vertical-align: middle;\n",
       "    }\n",
       "\n",
       "    .dataframe tbody tr th {\n",
       "        vertical-align: top;\n",
       "    }\n",
       "\n",
       "    .dataframe thead th {\n",
       "        text-align: right;\n",
       "    }\n",
       "</style>\n",
       "<table border=\"1\" class=\"dataframe\">\n",
       "  <thead>\n",
       "    <tr style=\"text-align: right;\">\n",
       "      <th></th>\n",
       "      <th>v1</th>\n",
       "      <th>v2</th>\n",
       "      <th>Unnamed: 2</th>\n",
       "      <th>Unnamed: 3</th>\n",
       "      <th>Unnamed: 4</th>\n",
       "    </tr>\n",
       "  </thead>\n",
       "  <tbody>\n",
       "    <tr>\n",
       "      <th>1967</th>\n",
       "      <td>ham</td>\n",
       "      <td>Even i cant close my eyes you are in me our va...</td>\n",
       "      <td>NaN</td>\n",
       "      <td>NaN</td>\n",
       "      <td>NaN</td>\n",
       "    </tr>\n",
       "    <tr>\n",
       "      <th>302</th>\n",
       "      <td>ham</td>\n",
       "      <td>Oh and by the way you do have more food in you...</td>\n",
       "      <td>NaN</td>\n",
       "      <td>NaN</td>\n",
       "      <td>NaN</td>\n",
       "    </tr>\n",
       "    <tr>\n",
       "      <th>3864</th>\n",
       "      <td>ham</td>\n",
       "      <td>THATåÕS ALRITE GIRL, U KNOW GAIL IS NEVA WRONG...</td>\n",
       "      <td>NaN</td>\n",
       "      <td>NaN</td>\n",
       "      <td>NaN</td>\n",
       "    </tr>\n",
       "    <tr>\n",
       "      <th>0</th>\n",
       "      <td>ham</td>\n",
       "      <td>Go until jurong point, crazy.. Available only ...</td>\n",
       "      <td>NaN</td>\n",
       "      <td>NaN</td>\n",
       "      <td>NaN</td>\n",
       "    </tr>\n",
       "    <tr>\n",
       "      <th>2726</th>\n",
       "      <td>ham</td>\n",
       "      <td>No i am not having not any movies in my laptop</td>\n",
       "      <td>NaN</td>\n",
       "      <td>NaN</td>\n",
       "      <td>NaN</td>\n",
       "    </tr>\n",
       "  </tbody>\n",
       "</table>\n",
       "</div>"
      ],
      "text/plain": [
       "       v1                                                 v2 Unnamed: 2  \\\n",
       "1967  ham  Even i cant close my eyes you are in me our va...        NaN   \n",
       "302   ham  Oh and by the way you do have more food in you...        NaN   \n",
       "3864  ham  THATåÕS ALRITE GIRL, U KNOW GAIL IS NEVA WRONG...        NaN   \n",
       "0     ham  Go until jurong point, crazy.. Available only ...        NaN   \n",
       "2726  ham     No i am not having not any movies in my laptop        NaN   \n",
       "\n",
       "     Unnamed: 3 Unnamed: 4  \n",
       "1967        NaN        NaN  \n",
       "302         NaN        NaN  \n",
       "3864        NaN        NaN  \n",
       "0           NaN        NaN  \n",
       "2726        NaN        NaN  "
      ]
     },
     "execution_count": 3,
     "metadata": {},
     "output_type": "execute_result"
    }
   ],
   "source": [
    "df.sample(5)"
   ]
  },
  {
   "cell_type": "code",
   "execution_count": 4,
   "id": "ba438bfe",
   "metadata": {
    "execution": {
     "iopub.execute_input": "2022-07-10T05:32:41.587265Z",
     "iopub.status.busy": "2022-07-10T05:32:41.586773Z",
     "iopub.status.idle": "2022-07-10T05:32:41.592593Z",
     "shell.execute_reply": "2022-07-10T05:32:41.591625Z"
    },
    "papermill": {
     "duration": 0.016149,
     "end_time": "2022-07-10T05:32:41.594549",
     "exception": false,
     "start_time": "2022-07-10T05:32:41.578400",
     "status": "completed"
    },
    "tags": []
   },
   "outputs": [
    {
     "data": {
      "text/plain": [
       "(5572, 5)"
      ]
     },
     "execution_count": 4,
     "metadata": {},
     "output_type": "execute_result"
    }
   ],
   "source": [
    "df.shape"
   ]
  },
  {
   "cell_type": "markdown",
   "id": "298414f8",
   "metadata": {
    "papermill": {
     "duration": 0.007499,
     "end_time": "2022-07-10T05:32:41.609462",
     "exception": false,
     "start_time": "2022-07-10T05:32:41.601963",
     "status": "completed"
    },
    "tags": []
   },
   "source": [
    "**Now lets start working with the data and make some amazing conclusions**"
   ]
  },
  {
   "cell_type": "markdown",
   "id": "c3bcb89d",
   "metadata": {
    "execution": {
     "iopub.execute_input": "2022-07-10T04:35:58.217491Z",
     "iopub.status.busy": "2022-07-10T04:35:58.216357Z",
     "iopub.status.idle": "2022-07-10T04:35:58.221486Z",
     "shell.execute_reply": "2022-07-10T04:35:58.220739Z",
     "shell.execute_reply.started": "2022-07-10T04:35:58.217454Z"
    },
    "papermill": {
     "duration": 0.00765,
     "end_time": "2022-07-10T05:32:41.624508",
     "exception": false,
     "start_time": "2022-07-10T05:32:41.616858",
     "status": "completed"
    },
    "tags": []
   },
   "source": [
    "## 1. Data Cleaning\n",
    "## 2. EDA\n",
    "## 3. Data Preprocessing --vectorization,stemming,remove stop words\n",
    "## 4. Model Building\n",
    "## 5. Evaluate the model\n",
    "## 6. Improve the model\n",
    "## 7. Website\n",
    "## 8. Deployment on Heroku\n"
   ]
  },
  {
   "cell_type": "markdown",
   "id": "928a94c9",
   "metadata": {
    "papermill": {
     "duration": 0.007177,
     "end_time": "2022-07-10T05:32:41.639120",
     "exception": false,
     "start_time": "2022-07-10T05:32:41.631943",
     "status": "completed"
    },
    "tags": []
   },
   "source": [
    "# *1. Data Cleaning*"
   ]
  },
  {
   "cell_type": "code",
   "execution_count": 5,
   "id": "a4bfc90c",
   "metadata": {
    "execution": {
     "iopub.execute_input": "2022-07-10T05:32:41.655989Z",
     "iopub.status.busy": "2022-07-10T05:32:41.655456Z",
     "iopub.status.idle": "2022-07-10T05:32:41.677065Z",
     "shell.execute_reply": "2022-07-10T05:32:41.675667Z"
    },
    "papermill": {
     "duration": 0.033079,
     "end_time": "2022-07-10T05:32:41.679844",
     "exception": false,
     "start_time": "2022-07-10T05:32:41.646765",
     "status": "completed"
    },
    "tags": []
   },
   "outputs": [
    {
     "name": "stdout",
     "output_type": "stream",
     "text": [
      "<class 'pandas.core.frame.DataFrame'>\n",
      "RangeIndex: 5572 entries, 0 to 5571\n",
      "Data columns (total 5 columns):\n",
      " #   Column      Non-Null Count  Dtype \n",
      "---  ------      --------------  ----- \n",
      " 0   v1          5572 non-null   object\n",
      " 1   v2          5572 non-null   object\n",
      " 2   Unnamed: 2  50 non-null     object\n",
      " 3   Unnamed: 3  12 non-null     object\n",
      " 4   Unnamed: 4  6 non-null      object\n",
      "dtypes: object(5)\n",
      "memory usage: 217.8+ KB\n"
     ]
    }
   ],
   "source": [
    "df.info()"
   ]
  },
  {
   "cell_type": "code",
   "execution_count": 6,
   "id": "54e3aec5",
   "metadata": {
    "execution": {
     "iopub.execute_input": "2022-07-10T05:32:41.697527Z",
     "iopub.status.busy": "2022-07-10T05:32:41.697192Z",
     "iopub.status.idle": "2022-07-10T05:32:41.708443Z",
     "shell.execute_reply": "2022-07-10T05:32:41.707564Z"
    },
    "papermill": {
     "duration": 0.021896,
     "end_time": "2022-07-10T05:32:41.710285",
     "exception": false,
     "start_time": "2022-07-10T05:32:41.688389",
     "status": "completed"
    },
    "tags": []
   },
   "outputs": [
    {
     "data": {
      "text/html": [
       "<div>\n",
       "<style scoped>\n",
       "    .dataframe tbody tr th:only-of-type {\n",
       "        vertical-align: middle;\n",
       "    }\n",
       "\n",
       "    .dataframe tbody tr th {\n",
       "        vertical-align: top;\n",
       "    }\n",
       "\n",
       "    .dataframe thead th {\n",
       "        text-align: right;\n",
       "    }\n",
       "</style>\n",
       "<table border=\"1\" class=\"dataframe\">\n",
       "  <thead>\n",
       "    <tr style=\"text-align: right;\">\n",
       "      <th></th>\n",
       "      <th>v1</th>\n",
       "      <th>v2</th>\n",
       "    </tr>\n",
       "  </thead>\n",
       "  <tbody>\n",
       "    <tr>\n",
       "      <th>3073</th>\n",
       "      <td>ham</td>\n",
       "      <td>Don know. I did't msg him recently.</td>\n",
       "    </tr>\n",
       "    <tr>\n",
       "      <th>5178</th>\n",
       "      <td>spam</td>\n",
       "      <td>SMS AUCTION - A BRAND NEW Nokia 7250 is up 4 a...</td>\n",
       "    </tr>\n",
       "    <tr>\n",
       "      <th>4004</th>\n",
       "      <td>ham</td>\n",
       "      <td>, ow u dey.i paid 60,400thousad.i told  u woul...</td>\n",
       "    </tr>\n",
       "    <tr>\n",
       "      <th>2007</th>\n",
       "      <td>ham</td>\n",
       "      <td>Hi here. have birth at on the  to  at 8lb 7oz....</td>\n",
       "    </tr>\n",
       "    <tr>\n",
       "      <th>4700</th>\n",
       "      <td>ham</td>\n",
       "      <td>I liked the new mobile</td>\n",
       "    </tr>\n",
       "  </tbody>\n",
       "</table>\n",
       "</div>"
      ],
      "text/plain": [
       "        v1                                                 v2\n",
       "3073   ham                Don know. I did't msg him recently.\n",
       "5178  spam  SMS AUCTION - A BRAND NEW Nokia 7250 is up 4 a...\n",
       "4004   ham  , ow u dey.i paid 60,400thousad.i told  u woul...\n",
       "2007   ham  Hi here. have birth at on the  to  at 8lb 7oz....\n",
       "4700   ham                             I liked the new mobile"
      ]
     },
     "execution_count": 6,
     "metadata": {},
     "output_type": "execute_result"
    }
   ],
   "source": [
    "# the above information shows that columns 2 3 4 have too much null values so it is good to drop it\n",
    "df.drop(columns=['Unnamed: 2','Unnamed: 3','Unnamed: 4'],inplace= True)\n",
    "#inplace= True because we permanently want to bring change in the original dataset\n",
    "df.sample(5)"
   ]
  },
  {
   "cell_type": "code",
   "execution_count": 7,
   "id": "47dc453a",
   "metadata": {
    "execution": {
     "iopub.execute_input": "2022-07-10T05:32:41.728366Z",
     "iopub.status.busy": "2022-07-10T05:32:41.728068Z",
     "iopub.status.idle": "2022-07-10T05:32:41.733384Z",
     "shell.execute_reply": "2022-07-10T05:32:41.732516Z"
    },
    "papermill": {
     "duration": 0.017149,
     "end_time": "2022-07-10T05:32:41.735501",
     "exception": false,
     "start_time": "2022-07-10T05:32:41.718352",
     "status": "completed"
    },
    "tags": []
   },
   "outputs": [],
   "source": [
    "# as the column names are not to descriptive lets rename the names of the columns\n",
    "df.rename(columns={'v1':'message_type', 'v2':'message'},inplace=True)"
   ]
  },
  {
   "cell_type": "code",
   "execution_count": 8,
   "id": "18cb315f",
   "metadata": {
    "execution": {
     "iopub.execute_input": "2022-07-10T05:32:41.753156Z",
     "iopub.status.busy": "2022-07-10T05:32:41.752890Z",
     "iopub.status.idle": "2022-07-10T05:32:41.762927Z",
     "shell.execute_reply": "2022-07-10T05:32:41.761963Z"
    },
    "papermill": {
     "duration": 0.021134,
     "end_time": "2022-07-10T05:32:41.764897",
     "exception": false,
     "start_time": "2022-07-10T05:32:41.743763",
     "status": "completed"
    },
    "tags": []
   },
   "outputs": [
    {
     "data": {
      "text/html": [
       "<div>\n",
       "<style scoped>\n",
       "    .dataframe tbody tr th:only-of-type {\n",
       "        vertical-align: middle;\n",
       "    }\n",
       "\n",
       "    .dataframe tbody tr th {\n",
       "        vertical-align: top;\n",
       "    }\n",
       "\n",
       "    .dataframe thead th {\n",
       "        text-align: right;\n",
       "    }\n",
       "</style>\n",
       "<table border=\"1\" class=\"dataframe\">\n",
       "  <thead>\n",
       "    <tr style=\"text-align: right;\">\n",
       "      <th></th>\n",
       "      <th>message_type</th>\n",
       "      <th>message</th>\n",
       "    </tr>\n",
       "  </thead>\n",
       "  <tbody>\n",
       "    <tr>\n",
       "      <th>2411</th>\n",
       "      <td>ham</td>\n",
       "      <td>Come to me right now, Ahmad</td>\n",
       "    </tr>\n",
       "    <tr>\n",
       "      <th>2133</th>\n",
       "      <td>ham</td>\n",
       "      <td>Spoke with uncle john today. He strongly feels...</td>\n",
       "    </tr>\n",
       "    <tr>\n",
       "      <th>2769</th>\n",
       "      <td>spam</td>\n",
       "      <td>Burger King - Wanna play footy at a top stadiu...</td>\n",
       "    </tr>\n",
       "    <tr>\n",
       "      <th>2803</th>\n",
       "      <td>ham</td>\n",
       "      <td>Lil fever:) now fine:)</td>\n",
       "    </tr>\n",
       "    <tr>\n",
       "      <th>2243</th>\n",
       "      <td>ham</td>\n",
       "      <td>Boo I'm on my way to my moms. She's making tor...</td>\n",
       "    </tr>\n",
       "  </tbody>\n",
       "</table>\n",
       "</div>"
      ],
      "text/plain": [
       "     message_type                                            message\n",
       "2411          ham                        Come to me right now, Ahmad\n",
       "2133          ham  Spoke with uncle john today. He strongly feels...\n",
       "2769         spam  Burger King - Wanna play footy at a top stadiu...\n",
       "2803          ham                             Lil fever:) now fine:)\n",
       "2243          ham  Boo I'm on my way to my moms. She's making tor..."
      ]
     },
     "execution_count": 8,
     "metadata": {},
     "output_type": "execute_result"
    }
   ],
   "source": [
    "df.sample(5)"
   ]
  },
  {
   "cell_type": "code",
   "execution_count": 9,
   "id": "abf1a704",
   "metadata": {
    "execution": {
     "iopub.execute_input": "2022-07-10T05:32:41.781935Z",
     "iopub.status.busy": "2022-07-10T05:32:41.781683Z",
     "iopub.status.idle": "2022-07-10T05:32:41.785220Z",
     "shell.execute_reply": "2022-07-10T05:32:41.784362Z"
    },
    "papermill": {
     "duration": 0.014185,
     "end_time": "2022-07-10T05:32:41.786896",
     "exception": false,
     "start_time": "2022-07-10T05:32:41.772711",
     "status": "completed"
    },
    "tags": []
   },
   "outputs": [],
   "source": [
    "# in the message type, they are classified as 'ham' and 'spam' but we want it as 1 and O so lets import Label Encoder"
   ]
  },
  {
   "cell_type": "code",
   "execution_count": 10,
   "id": "28538a9e",
   "metadata": {
    "execution": {
     "iopub.execute_input": "2022-07-10T05:32:41.804000Z",
     "iopub.status.busy": "2022-07-10T05:32:41.803711Z",
     "iopub.status.idle": "2022-07-10T05:32:42.669815Z",
     "shell.execute_reply": "2022-07-10T05:32:42.668760Z"
    },
    "papermill": {
     "duration": 0.877965,
     "end_time": "2022-07-10T05:32:42.672715",
     "exception": false,
     "start_time": "2022-07-10T05:32:41.794750",
     "status": "completed"
    },
    "tags": []
   },
   "outputs": [],
   "source": [
    "from sklearn.preprocessing import LabelEncoder\n",
    "encoder =LabelEncoder()"
   ]
  },
  {
   "cell_type": "code",
   "execution_count": 11,
   "id": "26e582a1",
   "metadata": {
    "execution": {
     "iopub.execute_input": "2022-07-10T05:32:42.690573Z",
     "iopub.status.busy": "2022-07-10T05:32:42.690239Z",
     "iopub.status.idle": "2022-07-10T05:32:42.699993Z",
     "shell.execute_reply": "2022-07-10T05:32:42.699057Z"
    },
    "papermill": {
     "duration": 0.020993,
     "end_time": "2022-07-10T05:32:42.701863",
     "exception": false,
     "start_time": "2022-07-10T05:32:42.680870",
     "status": "completed"
    },
    "tags": []
   },
   "outputs": [
    {
     "data": {
      "text/plain": [
       "111     0\n",
       "3393    0\n",
       "2398    0\n",
       "3664    0\n",
       "141     0\n",
       "Name: message_type, dtype: int64"
      ]
     },
     "execution_count": 11,
     "metadata": {},
     "output_type": "execute_result"
    }
   ],
   "source": [
    "df['message_type']=encoder.fit_transform(df['message_type'])\n",
    "df['message_type'].sample(5)"
   ]
  },
  {
   "cell_type": "code",
   "execution_count": 12,
   "id": "17caf39f",
   "metadata": {
    "execution": {
     "iopub.execute_input": "2022-07-10T05:32:42.719459Z",
     "iopub.status.busy": "2022-07-10T05:32:42.718845Z",
     "iopub.status.idle": "2022-07-10T05:32:42.730293Z",
     "shell.execute_reply": "2022-07-10T05:32:42.729438Z"
    },
    "papermill": {
     "duration": 0.021851,
     "end_time": "2022-07-10T05:32:42.732150",
     "exception": false,
     "start_time": "2022-07-10T05:32:42.710299",
     "status": "completed"
    },
    "tags": []
   },
   "outputs": [
    {
     "data": {
      "text/html": [
       "<div>\n",
       "<style scoped>\n",
       "    .dataframe tbody tr th:only-of-type {\n",
       "        vertical-align: middle;\n",
       "    }\n",
       "\n",
       "    .dataframe tbody tr th {\n",
       "        vertical-align: top;\n",
       "    }\n",
       "\n",
       "    .dataframe thead th {\n",
       "        text-align: right;\n",
       "    }\n",
       "</style>\n",
       "<table border=\"1\" class=\"dataframe\">\n",
       "  <thead>\n",
       "    <tr style=\"text-align: right;\">\n",
       "      <th></th>\n",
       "      <th>message_type</th>\n",
       "      <th>message</th>\n",
       "    </tr>\n",
       "  </thead>\n",
       "  <tbody>\n",
       "    <tr>\n",
       "      <th>2</th>\n",
       "      <td>1</td>\n",
       "      <td>Free entry in 2 a wkly comp to win FA Cup fina...</td>\n",
       "    </tr>\n",
       "    <tr>\n",
       "      <th>5</th>\n",
       "      <td>1</td>\n",
       "      <td>FreeMsg Hey there darling it's been 3 week's n...</td>\n",
       "    </tr>\n",
       "    <tr>\n",
       "      <th>8</th>\n",
       "      <td>1</td>\n",
       "      <td>WINNER!! As a valued network customer you have...</td>\n",
       "    </tr>\n",
       "    <tr>\n",
       "      <th>9</th>\n",
       "      <td>1</td>\n",
       "      <td>Had your mobile 11 months or more? U R entitle...</td>\n",
       "    </tr>\n",
       "    <tr>\n",
       "      <th>11</th>\n",
       "      <td>1</td>\n",
       "      <td>SIX chances to win CASH! From 100 to 20,000 po...</td>\n",
       "    </tr>\n",
       "    <tr>\n",
       "      <th>...</th>\n",
       "      <td>...</td>\n",
       "      <td>...</td>\n",
       "    </tr>\n",
       "    <tr>\n",
       "      <th>5537</th>\n",
       "      <td>1</td>\n",
       "      <td>Want explicit SEX in 30 secs? Ring 02073162414...</td>\n",
       "    </tr>\n",
       "    <tr>\n",
       "      <th>5540</th>\n",
       "      <td>1</td>\n",
       "      <td>ASKED 3MOBILE IF 0870 CHATLINES INCLU IN FREE ...</td>\n",
       "    </tr>\n",
       "    <tr>\n",
       "      <th>5547</th>\n",
       "      <td>1</td>\n",
       "      <td>Had your contract mobile 11 Mnths? Latest Moto...</td>\n",
       "    </tr>\n",
       "    <tr>\n",
       "      <th>5566</th>\n",
       "      <td>1</td>\n",
       "      <td>REMINDER FROM O2: To get 2.50 pounds free call...</td>\n",
       "    </tr>\n",
       "    <tr>\n",
       "      <th>5567</th>\n",
       "      <td>1</td>\n",
       "      <td>This is the 2nd time we have tried 2 contact u...</td>\n",
       "    </tr>\n",
       "  </tbody>\n",
       "</table>\n",
       "<p>747 rows × 2 columns</p>\n",
       "</div>"
      ],
      "text/plain": [
       "      message_type                                            message\n",
       "2                1  Free entry in 2 a wkly comp to win FA Cup fina...\n",
       "5                1  FreeMsg Hey there darling it's been 3 week's n...\n",
       "8                1  WINNER!! As a valued network customer you have...\n",
       "9                1  Had your mobile 11 months or more? U R entitle...\n",
       "11               1  SIX chances to win CASH! From 100 to 20,000 po...\n",
       "...            ...                                                ...\n",
       "5537             1  Want explicit SEX in 30 secs? Ring 02073162414...\n",
       "5540             1  ASKED 3MOBILE IF 0870 CHATLINES INCLU IN FREE ...\n",
       "5547             1  Had your contract mobile 11 Mnths? Latest Moto...\n",
       "5566             1  REMINDER FROM O2: To get 2.50 pounds free call...\n",
       "5567             1  This is the 2nd time we have tried 2 contact u...\n",
       "\n",
       "[747 rows x 2 columns]"
      ]
     },
     "execution_count": 12,
     "metadata": {},
     "output_type": "execute_result"
    }
   ],
   "source": [
    "df[df['message_type']==1]\n",
    "# there are 747 spam messages in the dataset"
   ]
  },
  {
   "cell_type": "code",
   "execution_count": 13,
   "id": "52ed359a",
   "metadata": {
    "execution": {
     "iopub.execute_input": "2022-07-10T05:32:42.750978Z",
     "iopub.status.busy": "2022-07-10T05:32:42.750703Z",
     "iopub.status.idle": "2022-07-10T05:32:42.759097Z",
     "shell.execute_reply": "2022-07-10T05:32:42.758228Z"
    },
    "papermill": {
     "duration": 0.019834,
     "end_time": "2022-07-10T05:32:42.761120",
     "exception": false,
     "start_time": "2022-07-10T05:32:42.741286",
     "status": "completed"
    },
    "tags": []
   },
   "outputs": [
    {
     "data": {
      "text/plain": [
       "message_type    0\n",
       "message         0\n",
       "dtype: int64"
      ]
     },
     "execution_count": 13,
     "metadata": {},
     "output_type": "execute_result"
    }
   ],
   "source": [
    "#now lets check the missing values\n",
    "df.isnull().sum()\n",
    "# there are no missing values"
   ]
  },
  {
   "cell_type": "code",
   "execution_count": 14,
   "id": "08dcbda7",
   "metadata": {
    "execution": {
     "iopub.execute_input": "2022-07-10T05:32:42.778969Z",
     "iopub.status.busy": "2022-07-10T05:32:42.778717Z",
     "iopub.status.idle": "2022-07-10T05:32:42.787927Z",
     "shell.execute_reply": "2022-07-10T05:32:42.786995Z"
    },
    "papermill": {
     "duration": 0.020284,
     "end_time": "2022-07-10T05:32:42.789881",
     "exception": false,
     "start_time": "2022-07-10T05:32:42.769597",
     "status": "completed"
    },
    "tags": []
   },
   "outputs": [
    {
     "data": {
      "text/plain": [
       "403"
      ]
     },
     "execution_count": 14,
     "metadata": {},
     "output_type": "execute_result"
    }
   ],
   "source": [
    "# now lets check for duplicated values\n",
    "df.duplicated().sum()\n"
   ]
  },
  {
   "cell_type": "markdown",
   "id": "6274c6a3",
   "metadata": {
    "papermill": {
     "duration": 0.008447,
     "end_time": "2022-07-10T05:32:42.806583",
     "exception": false,
     "start_time": "2022-07-10T05:32:42.798136",
     "status": "completed"
    },
    "tags": []
   },
   "source": [
    "*There are 403 duplicate values so we simply have to remove those values* "
   ]
  },
  {
   "cell_type": "code",
   "execution_count": 15,
   "id": "e166a7e0",
   "metadata": {
    "execution": {
     "iopub.execute_input": "2022-07-10T05:32:42.825294Z",
     "iopub.status.busy": "2022-07-10T05:32:42.824746Z",
     "iopub.status.idle": "2022-07-10T05:32:42.831852Z",
     "shell.execute_reply": "2022-07-10T05:32:42.830990Z"
    },
    "papermill": {
     "duration": 0.018659,
     "end_time": "2022-07-10T05:32:42.833709",
     "exception": false,
     "start_time": "2022-07-10T05:32:42.815050",
     "status": "completed"
    },
    "tags": []
   },
   "outputs": [],
   "source": [
    "#remove the duplicates\n",
    "df= df.drop_duplicates()"
   ]
  },
  {
   "cell_type": "code",
   "execution_count": 16,
   "id": "a5906618",
   "metadata": {
    "execution": {
     "iopub.execute_input": "2022-07-10T05:32:42.851940Z",
     "iopub.status.busy": "2022-07-10T05:32:42.851667Z",
     "iopub.status.idle": "2022-07-10T05:32:42.860408Z",
     "shell.execute_reply": "2022-07-10T05:32:42.859378Z"
    },
    "papermill": {
     "duration": 0.020435,
     "end_time": "2022-07-10T05:32:42.862533",
     "exception": false,
     "start_time": "2022-07-10T05:32:42.842098",
     "status": "completed"
    },
    "tags": []
   },
   "outputs": [
    {
     "data": {
      "text/plain": [
       "0"
      ]
     },
     "execution_count": 16,
     "metadata": {},
     "output_type": "execute_result"
    }
   ],
   "source": [
    "df.duplicated().sum()"
   ]
  },
  {
   "cell_type": "markdown",
   "id": "3a8c768a",
   "metadata": {
    "papermill": {
     "duration": 0.008076,
     "end_time": "2022-07-10T05:32:42.879260",
     "exception": false,
     "start_time": "2022-07-10T05:32:42.871184",
     "status": "completed"
    },
    "tags": []
   },
   "source": [
    "# 2. Exploratory Data Analysis"
   ]
  },
  {
   "cell_type": "markdown",
   "id": "a960ce95",
   "metadata": {
    "papermill": {
     "duration": 0.008232,
     "end_time": "2022-07-10T05:32:42.896074",
     "exception": false,
     "start_time": "2022-07-10T05:32:42.887842",
     "status": "completed"
    },
    "tags": []
   },
   "source": [
    "### *Lets visualize this classification problem to get a better understanding of the data*"
   ]
  },
  {
   "cell_type": "code",
   "execution_count": 17,
   "id": "2857f512",
   "metadata": {
    "execution": {
     "iopub.execute_input": "2022-07-10T05:32:42.914173Z",
     "iopub.status.busy": "2022-07-10T05:32:42.913862Z",
     "iopub.status.idle": "2022-07-10T05:32:43.074207Z",
     "shell.execute_reply": "2022-07-10T05:32:43.073052Z"
    },
    "papermill": {
     "duration": 0.171699,
     "end_time": "2022-07-10T05:32:43.076672",
     "exception": false,
     "start_time": "2022-07-10T05:32:42.904973",
     "status": "completed"
    },
    "tags": []
   },
   "outputs": [],
   "source": [
    "import seaborn as sns\n",
    "import matplotlib.pyplot as plt\n"
   ]
  },
  {
   "cell_type": "code",
   "execution_count": 18,
   "id": "81f3839a",
   "metadata": {
    "execution": {
     "iopub.execute_input": "2022-07-10T05:32:43.095327Z",
     "iopub.status.busy": "2022-07-10T05:32:43.094934Z",
     "iopub.status.idle": "2022-07-10T05:32:43.102198Z",
     "shell.execute_reply": "2022-07-10T05:32:43.101324Z"
    },
    "papermill": {
     "duration": 0.01879,
     "end_time": "2022-07-10T05:32:43.104389",
     "exception": false,
     "start_time": "2022-07-10T05:32:43.085599",
     "status": "completed"
    },
    "tags": []
   },
   "outputs": [
    {
     "data": {
      "text/plain": [
       "0    4516\n",
       "1     653\n",
       "Name: message_type, dtype: int64"
      ]
     },
     "execution_count": 18,
     "metadata": {},
     "output_type": "execute_result"
    }
   ],
   "source": [
    "df['message_type'].value_counts()"
   ]
  },
  {
   "cell_type": "code",
   "execution_count": 19,
   "id": "601db5eb",
   "metadata": {
    "execution": {
     "iopub.execute_input": "2022-07-10T05:32:43.123494Z",
     "iopub.status.busy": "2022-07-10T05:32:43.122933Z",
     "iopub.status.idle": "2022-07-10T05:32:43.251966Z",
     "shell.execute_reply": "2022-07-10T05:32:43.251123Z"
    },
    "papermill": {
     "duration": 0.142309,
     "end_time": "2022-07-10T05:32:43.255017",
     "exception": false,
     "start_time": "2022-07-10T05:32:43.112708",
     "status": "completed"
    },
    "tags": []
   },
   "outputs": [
    {
     "data": {
      "image/png": "[encoded data removed]",
      "text/plain": [
       "<Figure size 432x288 with 1 Axes>"
      ]
     },
     "metadata": {},
     "output_type": "display_data"
    }
   ],
   "source": [
    "plt.pie(df['message_type'].value_counts(),labels=[' not spam','spam'],autopct='%0.2f')\n",
    "plt.show()"
   ]
  },
  {
   "cell_type": "markdown",
   "id": "94dfe2e9",
   "metadata": {
    "papermill": {
     "duration": 0.016309,
     "end_time": "2022-07-10T05:32:43.288085",
     "exception": false,
     "start_time": "2022-07-10T05:32:43.271776",
     "status": "completed"
    },
    "tags": []
   },
   "source": [
    "### there is imbalance in data"
   ]
  },
  {
   "cell_type": "code",
   "execution_count": 20,
   "id": "9ec5af73",
   "metadata": {
    "execution": {
     "iopub.execute_input": "2022-07-10T05:32:43.324637Z",
     "iopub.status.busy": "2022-07-10T05:32:43.323739Z",
     "iopub.status.idle": "2022-07-10T05:32:43.328830Z",
     "shell.execute_reply": "2022-07-10T05:32:43.327766Z"
    },
    "papermill": {
     "duration": 0.027576,
     "end_time": "2022-07-10T05:32:43.332002",
     "exception": false,
     "start_time": "2022-07-10T05:32:43.304426",
     "status": "completed"
    },
    "tags": []
   },
   "outputs": [],
   "source": [
    "# no. of alphabets in the data\n",
    "# no. of sentences in the data\n",
    "# no. of words in the data"
   ]
  },
  {
   "cell_type": "markdown",
   "id": "fca55a86",
   "metadata": {
    "papermill": {
     "duration": 0.008767,
     "end_time": "2022-07-10T05:32:43.351710",
     "exception": false,
     "start_time": "2022-07-10T05:32:43.342943",
     "status": "completed"
    },
    "tags": []
   },
   "source": [
    "### *Now lets make 3 new columns in the data depicting the no. of characters,words and sentences*"
   ]
  },
  {
   "cell_type": "code",
   "execution_count": null,
   "id": "f13f9f28",
   "metadata": {
    "papermill": {
     "duration": 0.00881,
     "end_time": "2022-07-10T05:32:43.369584",
     "exception": false,
     "start_time": "2022-07-10T05:32:43.360774",
     "status": "completed"
    },
    "tags": []
   },
   "outputs": [],
   "source": []
  },
  {
   "cell_type": "code",
   "execution_count": null,
   "id": "15f01e0f",
   "metadata": {
    "papermill": {
     "duration": 0.009684,
     "end_time": "2022-07-10T05:32:43.388149",
     "exception": false,
     "start_time": "2022-07-10T05:32:43.378465",
     "status": "completed"
    },
    "tags": []
   },
   "outputs": [],
   "source": []
  },
  {
   "cell_type": "code",
   "execution_count": null,
   "id": "b523ae8d",
   "metadata": {
    "papermill": {
     "duration": 0.00909,
     "end_time": "2022-07-10T05:32:43.406616",
     "exception": false,
     "start_time": "2022-07-10T05:32:43.397526",
     "status": "completed"
    },
    "tags": []
   },
   "outputs": [],
   "source": []
  },
  {
   "cell_type": "code",
   "execution_count": null,
   "id": "17263f9b",
   "metadata": {
    "papermill": {
     "duration": 0.009037,
     "end_time": "2022-07-10T05:32:43.425374",
     "exception": false,
     "start_time": "2022-07-10T05:32:43.416337",
     "status": "completed"
    },
    "tags": []
   },
   "outputs": [],
   "source": []
  }
 ],
 "metadata": {
  "kernelspec": {
   "display_name": "Python 3",
   "language": "python",
   "name": "python3"
  },
  "language_info": {
   "codemirror_mode": {
    "name": "ipython",
    "version": 3
   },
   "file_extension": ".py",
   "mimetype": "text/x-python",
   "name": "python",
   "nbconvert_exporter": "python",
   "pygments_lexer": "ipython3",
   "version": "3.7.12"
  },
  "papermill": {
   "default_parameters": {},
   "duration": 11.246914,
   "end_time": "2022-07-10T05:32:44.053768",
   "environment_variables": {},
   "exception": null,
   "input_path": "__notebook__.ipynb",
   "output_path": "__notebook__.ipynb",
   "parameters": {},
   "start_time": "2022-07-10T05:32:32.806854",
   "version": "2.3.4"
  }
 },
 "nbformat": 4,
 "nbformat_minor": 5
}
