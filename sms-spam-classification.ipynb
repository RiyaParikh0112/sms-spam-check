{
 "cells": [
  {
   "cell_type": "markdown",
   "metadata": {
    "_cell_guid": "b1076dfc-b9ad-4769-8c92-a6c4dae69d19",
    "_uuid": "8f2839f25d086af736a60e9eeb907d3b93b6e0e5"
   },
   "source": [
    "# SMS Spam Classification"
   ]
  },
  {
   "cell_type": "code",
   "execution_count": 12,
   "metadata": {
    "execution": {
     "iopub.execute_input": "2022-07-10T10:42:57.196835Z",
     "iopub.status.busy": "2022-07-10T10:42:57.195876Z",
     "iopub.status.idle": "2022-07-10T10:42:57.202259Z",
     "shell.execute_reply": "2022-07-10T10:42:57.201438Z",
     "shell.execute_reply.started": "2022-07-10T10:42:57.196764Z"
    }
   },
   "outputs": [],
   "source": [
    "import pandas as pd\n",
    "import numpy as np"
   ]
  },
  {
   "cell_type": "code",
   "execution_count": 13,
   "metadata": {
    "execution": {
     "iopub.execute_input": "2022-07-10T10:42:57.205385Z",
     "iopub.status.busy": "2022-07-10T10:42:57.204619Z",
     "iopub.status.idle": "2022-07-10T10:42:57.233947Z",
     "shell.execute_reply": "2022-07-10T10:42:57.233051Z",
     "shell.execute_reply.started": "2022-07-10T10:42:57.20534Z"
    }
   },
   "outputs": [],
   "source": [
    "df = pd.read_csv('spam.csv',encoding='latin-1')"
   ]
  },
  {
   "cell_type": "code",
   "execution_count": 14,
   "metadata": {
    "execution": {
     "iopub.execute_input": "2022-07-10T10:42:57.238772Z",
     "iopub.status.busy": "2022-07-10T10:42:57.238045Z",
     "iopub.status.idle": "2022-07-10T10:42:57.251925Z",
     "shell.execute_reply": "2022-07-10T10:42:57.251062Z",
     "shell.execute_reply.started": "2022-07-10T10:42:57.238728Z"
    }
   },
   "outputs": [
    {
     "data": {
      "text/html": [
       "<div>\n",
       "<style scoped>\n",
       "    .dataframe tbody tr th:only-of-type {\n",
       "        vertical-align: middle;\n",
       "    }\n",
       "\n",
       "    .dataframe tbody tr th {\n",
       "        vertical-align: top;\n",
       "    }\n",
       "\n",
       "    .dataframe thead th {\n",
       "        text-align: right;\n",
       "    }\n",
       "</style>\n",
       "<table border=\"1\" class=\"dataframe\">\n",
       "  <thead>\n",
       "    <tr style=\"text-align: right;\">\n",
       "      <th></th>\n",
       "      <th>v1</th>\n",
       "      <th>v2</th>\n",
       "      <th>Unnamed: 2</th>\n",
       "      <th>Unnamed: 3</th>\n",
       "      <th>Unnamed: 4</th>\n",
       "    </tr>\n",
       "  </thead>\n",
       "  <tbody>\n",
       "    <tr>\n",
       "      <th>69</th>\n",
       "      <td>ham</td>\n",
       "      <td>I plane to give on this month end.</td>\n",
       "      <td>NaN</td>\n",
       "      <td>NaN</td>\n",
       "      <td>NaN</td>\n",
       "    </tr>\n",
       "    <tr>\n",
       "      <th>1759</th>\n",
       "      <td>ham</td>\n",
       "      <td>Do u ever get a song stuck in your head for no...</td>\n",
       "      <td>NaN</td>\n",
       "      <td>NaN</td>\n",
       "      <td>NaN</td>\n",
       "    </tr>\n",
       "    <tr>\n",
       "      <th>3243</th>\n",
       "      <td>ham</td>\n",
       "      <td>Squeeeeeze!! This is christmas hug.. If u lik ...</td>\n",
       "      <td>NaN</td>\n",
       "      <td>NaN</td>\n",
       "      <td>NaN</td>\n",
       "    </tr>\n",
       "    <tr>\n",
       "      <th>2131</th>\n",
       "      <td>ham</td>\n",
       "      <td>S...from the training manual it show there is ...</td>\n",
       "      <td>NaN</td>\n",
       "      <td>NaN</td>\n",
       "      <td>NaN</td>\n",
       "    </tr>\n",
       "    <tr>\n",
       "      <th>4968</th>\n",
       "      <td>ham</td>\n",
       "      <td>I will cme i want to go to hos 2morow. After t...</td>\n",
       "      <td>NaN</td>\n",
       "      <td>NaN</td>\n",
       "      <td>NaN</td>\n",
       "    </tr>\n",
       "  </tbody>\n",
       "</table>\n",
       "</div>"
      ],
      "text/plain": [
       "       v1                                                 v2 Unnamed: 2  \\\n",
       "69    ham                 I plane to give on this month end.        NaN   \n",
       "1759  ham  Do u ever get a song stuck in your head for no...        NaN   \n",
       "3243  ham  Squeeeeeze!! This is christmas hug.. If u lik ...        NaN   \n",
       "2131  ham  S...from the training manual it show there is ...        NaN   \n",
       "4968  ham  I will cme i want to go to hos 2morow. After t...        NaN   \n",
       "\n",
       "     Unnamed: 3 Unnamed: 4  \n",
       "69          NaN        NaN  \n",
       "1759        NaN        NaN  \n",
       "3243        NaN        NaN  \n",
       "2131        NaN        NaN  \n",
       "4968        NaN        NaN  "
      ]
     },
     "execution_count": 14,
     "metadata": {},
     "output_type": "execute_result"
    }
   ],
   "source": [
    "df.sample(5)"
   ]
  },
  {
   "cell_type": "code",
   "execution_count": 15,
   "metadata": {
    "execution": {
     "iopub.execute_input": "2022-07-10T10:42:57.255237Z",
     "iopub.status.busy": "2022-07-10T10:42:57.254251Z",
     "iopub.status.idle": "2022-07-10T10:42:57.260669Z",
     "shell.execute_reply": "2022-07-10T10:42:57.25998Z",
     "shell.execute_reply.started": "2022-07-10T10:42:57.255203Z"
    }
   },
   "outputs": [
    {
     "data": {
      "text/plain": [
       "(5572, 5)"
      ]
     },
     "execution_count": 15,
     "metadata": {},
     "output_type": "execute_result"
    }
   ],
   "source": [
    "df.shape"
   ]
  },
  {
   "cell_type": "markdown",
   "metadata": {},
   "source": [
    "**Now lets start working with the data and make some amazing conclusions**"
   ]
  },
  {
   "cell_type": "markdown",
   "metadata": {
    "execution": {
     "iopub.execute_input": "2022-07-10T04:35:58.217491Z",
     "iopub.status.busy": "2022-07-10T04:35:58.216357Z",
     "iopub.status.idle": "2022-07-10T04:35:58.221486Z",
     "shell.execute_reply": "2022-07-10T04:35:58.220739Z",
     "shell.execute_reply.started": "2022-07-10T04:35:58.217454Z"
    }
   },
   "source": [
    "## 1. Data Cleaning\n",
    "## 2. EDA\n",
    "## 3. Data Preprocessing --vectorization,stemming,remove stop words\n",
    "## 4. Model Building\n",
    "## 5. Evaluate the model\n",
    "## 6. Improve the model\n",
    "## 7. Website\n",
    "## 8. Deployment on Heroku\n"
   ]
  },
  {
   "cell_type": "markdown",
   "metadata": {},
   "source": [
    "# 1. Data Cleaning"
   ]
  },
  {
   "cell_type": "code",
   "execution_count": 16,
   "metadata": {
    "execution": {
     "iopub.execute_input": "2022-07-10T10:42:57.262183Z",
     "iopub.status.busy": "2022-07-10T10:42:57.261882Z",
     "iopub.status.idle": "2022-07-10T10:42:57.28116Z",
     "shell.execute_reply": "2022-07-10T10:42:57.280359Z",
     "shell.execute_reply.started": "2022-07-10T10:42:57.262156Z"
    }
   },
   "outputs": [
    {
     "name": "stdout",
     "output_type": "stream",
     "text": [
      "<class 'pandas.core.frame.DataFrame'>\n",
      "RangeIndex: 5572 entries, 0 to 5571\n",
      "Data columns (total 5 columns):\n",
      " #   Column      Non-Null Count  Dtype \n",
      "---  ------      --------------  ----- \n",
      " 0   v1          5572 non-null   object\n",
      " 1   v2          5572 non-null   object\n",
      " 2   Unnamed: 2  50 non-null     object\n",
      " 3   Unnamed: 3  12 non-null     object\n",
      " 4   Unnamed: 4  6 non-null      object\n",
      "dtypes: object(5)\n",
      "memory usage: 217.8+ KB\n"
     ]
    }
   ],
   "source": [
    "df.info()"
   ]
  },
  {
   "cell_type": "code",
   "execution_count": 17,
   "metadata": {
    "execution": {
     "iopub.execute_input": "2022-07-10T10:42:57.283286Z",
     "iopub.status.busy": "2022-07-10T10:42:57.282412Z",
     "iopub.status.idle": "2022-07-10T10:42:57.301489Z",
     "shell.execute_reply": "2022-07-10T10:42:57.300333Z",
     "shell.execute_reply.started": "2022-07-10T10:42:57.283257Z"
    }
   },
   "outputs": [
    {
     "data": {
      "text/html": [
       "<div>\n",
       "<style scoped>\n",
       "    .dataframe tbody tr th:only-of-type {\n",
       "        vertical-align: middle;\n",
       "    }\n",
       "\n",
       "    .dataframe tbody tr th {\n",
       "        vertical-align: top;\n",
       "    }\n",
       "\n",
       "    .dataframe thead th {\n",
       "        text-align: right;\n",
       "    }\n",
       "</style>\n",
       "<table border=\"1\" class=\"dataframe\">\n",
       "  <thead>\n",
       "    <tr style=\"text-align: right;\">\n",
       "      <th></th>\n",
       "      <th>v1</th>\n",
       "      <th>v2</th>\n",
       "    </tr>\n",
       "  </thead>\n",
       "  <tbody>\n",
       "    <tr>\n",
       "      <th>2337</th>\n",
       "      <td>ham</td>\n",
       "      <td>Tell your friends what you plan to do on Valen...</td>\n",
       "    </tr>\n",
       "    <tr>\n",
       "      <th>2270</th>\n",
       "      <td>ham</td>\n",
       "      <td>U know we watchin at lido?</td>\n",
       "    </tr>\n",
       "    <tr>\n",
       "      <th>3156</th>\n",
       "      <td>ham</td>\n",
       "      <td>Havent shopping now lor i juz arrive only</td>\n",
       "    </tr>\n",
       "    <tr>\n",
       "      <th>191</th>\n",
       "      <td>ham</td>\n",
       "      <td>I'm sorry. I've joined the league of people th...</td>\n",
       "    </tr>\n",
       "    <tr>\n",
       "      <th>3431</th>\n",
       "      <td>spam</td>\n",
       "      <td>Camera - You are awarded a SiPix Digital Camer...</td>\n",
       "    </tr>\n",
       "  </tbody>\n",
       "</table>\n",
       "</div>"
      ],
      "text/plain": [
       "        v1                                                 v2\n",
       "2337   ham  Tell your friends what you plan to do on Valen...\n",
       "2270   ham                         U know we watchin at lido?\n",
       "3156   ham          Havent shopping now lor i juz arrive only\n",
       "191    ham  I'm sorry. I've joined the league of people th...\n",
       "3431  spam  Camera - You are awarded a SiPix Digital Camer..."
      ]
     },
     "execution_count": 17,
     "metadata": {},
     "output_type": "execute_result"
    }
   ],
   "source": [
    "# the above information shows that columns 2 3 4 have too much null values so it is good to drop it\n",
    "df.drop(columns=['Unnamed: 2','Unnamed: 3','Unnamed: 4'],inplace= True)\n",
    "#inplace= True because we permanently want to bring change in the original dataset\n",
    "df.sample(5)"
   ]
  },
  {
   "cell_type": "code",
   "execution_count": 18,
   "metadata": {
    "execution": {
     "iopub.execute_input": "2022-07-10T10:42:57.303759Z",
     "iopub.status.busy": "2022-07-10T10:42:57.303163Z",
     "iopub.status.idle": "2022-07-10T10:42:57.31377Z",
     "shell.execute_reply": "2022-07-10T10:42:57.312304Z",
     "shell.execute_reply.started": "2022-07-10T10:42:57.30373Z"
    }
   },
   "outputs": [],
   "source": [
    "# as the column names are not to descriptive lets rename the names of the columns\n",
    "df.rename(columns={'v1':'message_type', 'v2':'message'},inplace=True)"
   ]
  },
  {
   "cell_type": "code",
   "execution_count": 19,
   "metadata": {
    "execution": {
     "iopub.execute_input": "2022-07-10T10:42:57.315542Z",
     "iopub.status.busy": "2022-07-10T10:42:57.314879Z",
     "iopub.status.idle": "2022-07-10T10:42:57.33203Z",
     "shell.execute_reply": "2022-07-10T10:42:57.330837Z",
     "shell.execute_reply.started": "2022-07-10T10:42:57.315506Z"
    }
   },
   "outputs": [
    {
     "data": {
      "text/html": [
       "<div>\n",
       "<style scoped>\n",
       "    .dataframe tbody tr th:only-of-type {\n",
       "        vertical-align: middle;\n",
       "    }\n",
       "\n",
       "    .dataframe tbody tr th {\n",
       "        vertical-align: top;\n",
       "    }\n",
       "\n",
       "    .dataframe thead th {\n",
       "        text-align: right;\n",
       "    }\n",
       "</style>\n",
       "<table border=\"1\" class=\"dataframe\">\n",
       "  <thead>\n",
       "    <tr style=\"text-align: right;\">\n",
       "      <th></th>\n",
       "      <th>message_type</th>\n",
       "      <th>message</th>\n",
       "    </tr>\n",
       "  </thead>\n",
       "  <tbody>\n",
       "    <tr>\n",
       "      <th>2514</th>\n",
       "      <td>ham</td>\n",
       "      <td>Ok ill send you with in  &amp;lt;DECIMAL&amp;gt;  ok.</td>\n",
       "    </tr>\n",
       "    <tr>\n",
       "      <th>3153</th>\n",
       "      <td>spam</td>\n",
       "      <td>Not heard from U4 a while. Call 4 rude chat pr...</td>\n",
       "    </tr>\n",
       "    <tr>\n",
       "      <th>3111</th>\n",
       "      <td>ham</td>\n",
       "      <td>Just haven't decided where yet eh ?</td>\n",
       "    </tr>\n",
       "    <tr>\n",
       "      <th>4841</th>\n",
       "      <td>ham</td>\n",
       "      <td>Awesome, that gonna be soon or later tonight?</td>\n",
       "    </tr>\n",
       "    <tr>\n",
       "      <th>870</th>\n",
       "      <td>ham</td>\n",
       "      <td>Well am officially in a philosophical hole, so...</td>\n",
       "    </tr>\n",
       "  </tbody>\n",
       "</table>\n",
       "</div>"
      ],
      "text/plain": [
       "     message_type                                            message\n",
       "2514          ham      Ok ill send you with in  &lt;DECIMAL&gt;  ok.\n",
       "3153         spam  Not heard from U4 a while. Call 4 rude chat pr...\n",
       "3111          ham                Just haven't decided where yet eh ?\n",
       "4841          ham      Awesome, that gonna be soon or later tonight?\n",
       "870           ham  Well am officially in a philosophical hole, so..."
      ]
     },
     "execution_count": 19,
     "metadata": {},
     "output_type": "execute_result"
    }
   ],
   "source": [
    "df.sample(5)"
   ]
  },
  {
   "cell_type": "code",
   "execution_count": 20,
   "metadata": {
    "execution": {
     "iopub.execute_input": "2022-07-10T10:42:57.335048Z",
     "iopub.status.busy": "2022-07-10T10:42:57.334514Z",
     "iopub.status.idle": "2022-07-10T10:42:57.338526Z",
     "shell.execute_reply": "2022-07-10T10:42:57.337685Z",
     "shell.execute_reply.started": "2022-07-10T10:42:57.335009Z"
    }
   },
   "outputs": [],
   "source": [
    "# in the message type, they are classified as 'ham' and 'spam' but we want it as 1 and O so lets import Label Encoder"
   ]
  },
  {
   "cell_type": "code",
   "execution_count": 21,
   "metadata": {
    "execution": {
     "iopub.execute_input": "2022-07-10T10:42:57.340442Z",
     "iopub.status.busy": "2022-07-10T10:42:57.339689Z",
     "iopub.status.idle": "2022-07-10T10:42:57.349869Z",
     "shell.execute_reply": "2022-07-10T10:42:57.34907Z",
     "shell.execute_reply.started": "2022-07-10T10:42:57.340408Z"
    }
   },
   "outputs": [],
   "source": [
    "from sklearn.preprocessing import LabelEncoder\n",
    "encoder =LabelEncoder()"
   ]
  },
  {
   "cell_type": "code",
   "execution_count": 22,
   "metadata": {
    "execution": {
     "iopub.execute_input": "2022-07-10T10:42:57.351718Z",
     "iopub.status.busy": "2022-07-10T10:42:57.351159Z",
     "iopub.status.idle": "2022-07-10T10:42:57.367915Z",
     "shell.execute_reply": "2022-07-10T10:42:57.366575Z",
     "shell.execute_reply.started": "2022-07-10T10:42:57.351689Z"
    }
   },
   "outputs": [
    {
     "data": {
      "text/plain": [
       "1194    0\n",
       "3891    1\n",
       "2987    0\n",
       "5325    0\n",
       "3268    0\n",
       "Name: message_type, dtype: int64"
      ]
     },
     "execution_count": 22,
     "metadata": {},
     "output_type": "execute_result"
    }
   ],
   "source": [
    "df['message_type']=encoder.fit_transform(df['message_type'])\n",
    "df['message_type'].sample(5)"
   ]
  },
  {
   "cell_type": "code",
   "execution_count": 23,
   "metadata": {
    "execution": {
     "iopub.execute_input": "2022-07-10T10:42:57.370983Z",
     "iopub.status.busy": "2022-07-10T10:42:57.370158Z",
     "iopub.status.idle": "2022-07-10T10:42:57.385561Z",
     "shell.execute_reply": "2022-07-10T10:42:57.384828Z",
     "shell.execute_reply.started": "2022-07-10T10:42:57.37094Z"
    }
   },
   "outputs": [
    {
     "data": {
      "text/html": [
       "<div>\n",
       "<style scoped>\n",
       "    .dataframe tbody tr th:only-of-type {\n",
       "        vertical-align: middle;\n",
       "    }\n",
       "\n",
       "    .dataframe tbody tr th {\n",
       "        vertical-align: top;\n",
       "    }\n",
       "\n",
       "    .dataframe thead th {\n",
       "        text-align: right;\n",
       "    }\n",
       "</style>\n",
       "<table border=\"1\" class=\"dataframe\">\n",
       "  <thead>\n",
       "    <tr style=\"text-align: right;\">\n",
       "      <th></th>\n",
       "      <th>message_type</th>\n",
       "      <th>message</th>\n",
       "    </tr>\n",
       "  </thead>\n",
       "  <tbody>\n",
       "    <tr>\n",
       "      <th>2</th>\n",
       "      <td>1</td>\n",
       "      <td>Free entry in 2 a wkly comp to win FA Cup fina...</td>\n",
       "    </tr>\n",
       "    <tr>\n",
       "      <th>5</th>\n",
       "      <td>1</td>\n",
       "      <td>FreeMsg Hey there darling it's been 3 week's n...</td>\n",
       "    </tr>\n",
       "    <tr>\n",
       "      <th>8</th>\n",
       "      <td>1</td>\n",
       "      <td>WINNER!! As a valued network customer you have...</td>\n",
       "    </tr>\n",
       "    <tr>\n",
       "      <th>9</th>\n",
       "      <td>1</td>\n",
       "      <td>Had your mobile 11 months or more? U R entitle...</td>\n",
       "    </tr>\n",
       "    <tr>\n",
       "      <th>11</th>\n",
       "      <td>1</td>\n",
       "      <td>SIX chances to win CASH! From 100 to 20,000 po...</td>\n",
       "    </tr>\n",
       "    <tr>\n",
       "      <th>...</th>\n",
       "      <td>...</td>\n",
       "      <td>...</td>\n",
       "    </tr>\n",
       "    <tr>\n",
       "      <th>5537</th>\n",
       "      <td>1</td>\n",
       "      <td>Want explicit SEX in 30 secs? Ring 02073162414...</td>\n",
       "    </tr>\n",
       "    <tr>\n",
       "      <th>5540</th>\n",
       "      <td>1</td>\n",
       "      <td>ASKED 3MOBILE IF 0870 CHATLINES INCLU IN FREE ...</td>\n",
       "    </tr>\n",
       "    <tr>\n",
       "      <th>5547</th>\n",
       "      <td>1</td>\n",
       "      <td>Had your contract mobile 11 Mnths? Latest Moto...</td>\n",
       "    </tr>\n",
       "    <tr>\n",
       "      <th>5566</th>\n",
       "      <td>1</td>\n",
       "      <td>REMINDER FROM O2: To get 2.50 pounds free call...</td>\n",
       "    </tr>\n",
       "    <tr>\n",
       "      <th>5567</th>\n",
       "      <td>1</td>\n",
       "      <td>This is the 2nd time we have tried 2 contact u...</td>\n",
       "    </tr>\n",
       "  </tbody>\n",
       "</table>\n",
       "<p>747 rows × 2 columns</p>\n",
       "</div>"
      ],
      "text/plain": [
       "      message_type                                            message\n",
       "2                1  Free entry in 2 a wkly comp to win FA Cup fina...\n",
       "5                1  FreeMsg Hey there darling it's been 3 week's n...\n",
       "8                1  WINNER!! As a valued network customer you have...\n",
       "9                1  Had your mobile 11 months or more? U R entitle...\n",
       "11               1  SIX chances to win CASH! From 100 to 20,000 po...\n",
       "...            ...                                                ...\n",
       "5537             1  Want explicit SEX in 30 secs? Ring 02073162414...\n",
       "5540             1  ASKED 3MOBILE IF 0870 CHATLINES INCLU IN FREE ...\n",
       "5547             1  Had your contract mobile 11 Mnths? Latest Moto...\n",
       "5566             1  REMINDER FROM O2: To get 2.50 pounds free call...\n",
       "5567             1  This is the 2nd time we have tried 2 contact u...\n",
       "\n",
       "[747 rows x 2 columns]"
      ]
     },
     "execution_count": 23,
     "metadata": {},
     "output_type": "execute_result"
    }
   ],
   "source": [
    "df[df['message_type']==1]\n",
    "# there are 747 spam messages in the dataset"
   ]
  },
  {
   "cell_type": "code",
   "execution_count": 24,
   "metadata": {
    "execution": {
     "iopub.execute_input": "2022-07-10T10:42:57.387322Z",
     "iopub.status.busy": "2022-07-10T10:42:57.386853Z",
     "iopub.status.idle": "2022-07-10T10:42:57.395369Z",
     "shell.execute_reply": "2022-07-10T10:42:57.394496Z",
     "shell.execute_reply.started": "2022-07-10T10:42:57.387296Z"
    }
   },
   "outputs": [
    {
     "data": {
      "text/plain": [
       "message_type    0\n",
       "message         0\n",
       "dtype: int64"
      ]
     },
     "execution_count": 24,
     "metadata": {},
     "output_type": "execute_result"
    }
   ],
   "source": [
    "#now lets check the missing values\n",
    "df.isnull().sum()\n",
    "# there are no missing values"
   ]
  },
  {
   "cell_type": "code",
   "execution_count": 25,
   "metadata": {
    "execution": {
     "iopub.execute_input": "2022-07-10T10:42:57.3982Z",
     "iopub.status.busy": "2022-07-10T10:42:57.397913Z",
     "iopub.status.idle": "2022-07-10T10:42:57.411824Z",
     "shell.execute_reply": "2022-07-10T10:42:57.410681Z",
     "shell.execute_reply.started": "2022-07-10T10:42:57.398174Z"
    }
   },
   "outputs": [
    {
     "data": {
      "text/plain": [
       "403"
      ]
     },
     "execution_count": 25,
     "metadata": {},
     "output_type": "execute_result"
    }
   ],
   "source": [
    "# now lets check for duplicated values\n",
    "df.duplicated().sum()\n"
   ]
  },
  {
   "cell_type": "markdown",
   "metadata": {},
   "source": [
    "*There are 403 duplicate values so we simply have to remove those values* "
   ]
  },
  {
   "cell_type": "code",
   "execution_count": 26,
   "metadata": {
    "execution": {
     "iopub.execute_input": "2022-07-10T10:42:57.41389Z",
     "iopub.status.busy": "2022-07-10T10:42:57.413525Z",
     "iopub.status.idle": "2022-07-10T10:42:57.422144Z",
     "shell.execute_reply": "2022-07-10T10:42:57.421188Z",
     "shell.execute_reply.started": "2022-07-10T10:42:57.413863Z"
    }
   },
   "outputs": [],
   "source": [
    "#remove the duplicates\n",
    "df= df.drop_duplicates()"
   ]
  },
  {
   "cell_type": "code",
   "execution_count": 27,
   "metadata": {
    "execution": {
     "iopub.execute_input": "2022-07-10T10:42:57.424053Z",
     "iopub.status.busy": "2022-07-10T10:42:57.423487Z",
     "iopub.status.idle": "2022-07-10T10:42:57.436101Z",
     "shell.execute_reply": "2022-07-10T10:42:57.435057Z",
     "shell.execute_reply.started": "2022-07-10T10:42:57.424019Z"
    }
   },
   "outputs": [
    {
     "data": {
      "text/plain": [
       "0"
      ]
     },
     "execution_count": 27,
     "metadata": {},
     "output_type": "execute_result"
    }
   ],
   "source": [
    "df.duplicated().sum()"
   ]
  },
  {
   "cell_type": "markdown",
   "metadata": {},
   "source": [
    "# 2. Exploratory Data Analysis"
   ]
  },
  {
   "cell_type": "markdown",
   "metadata": {},
   "source": [
    "### *Lets visualize this classification problem to get a better understanding of the data*"
   ]
  },
  {
   "cell_type": "code",
   "execution_count": 28,
   "metadata": {
    "execution": {
     "iopub.execute_input": "2022-07-10T10:42:57.438853Z",
     "iopub.status.busy": "2022-07-10T10:42:57.437928Z",
     "iopub.status.idle": "2022-07-10T10:42:57.444242Z",
     "shell.execute_reply": "2022-07-10T10:42:57.443004Z",
     "shell.execute_reply.started": "2022-07-10T10:42:57.438807Z"
    }
   },
   "outputs": [],
   "source": [
    "import seaborn as sns\n",
    "import matplotlib.pyplot as plt\n"
   ]
  },
  {
   "cell_type": "code",
   "execution_count": 29,
   "metadata": {
    "execution": {
     "iopub.execute_input": "2022-07-10T10:42:57.446675Z",
     "iopub.status.busy": "2022-07-10T10:42:57.445757Z",
     "iopub.status.idle": "2022-07-10T10:42:57.457267Z",
     "shell.execute_reply": "2022-07-10T10:42:57.456275Z",
     "shell.execute_reply.started": "2022-07-10T10:42:57.446633Z"
    }
   },
   "outputs": [
    {
     "data": {
      "text/plain": [
       "0    4516\n",
       "1     653\n",
       "Name: message_type, dtype: int64"
      ]
     },
     "execution_count": 29,
     "metadata": {},
     "output_type": "execute_result"
    }
   ],
   "source": [
    "df['message_type'].value_counts()"
   ]
  },
  {
   "cell_type": "code",
   "execution_count": 30,
   "metadata": {
    "execution": {
     "iopub.execute_input": "2022-07-10T10:42:57.463442Z",
     "iopub.status.busy": "2022-07-10T10:42:57.462269Z",
     "iopub.status.idle": "2022-07-10T10:42:57.553369Z",
     "shell.execute_reply": "2022-07-10T10:42:57.552122Z",
     "shell.execute_reply.started": "2022-07-10T10:42:57.463392Z"
    }
   },
   "outputs": [
    {
     "data": {
      "image/png": "[encoded data removed]",
      "text/plain": [
       "<Figure size 432x288 with 1 Axes>"
      ]
     },
     "metadata": {},
     "output_type": "display_data"
    }
   ],
   "source": [
    "plt.pie(df['message_type'].value_counts(),labels=[' not spam','spam'],autopct='%0.2f')\n",
    "plt.show()"
   ]
  },
  {
   "cell_type": "markdown",
   "metadata": {},
   "source": [
    "### there is imbalance in data"
   ]
  },
  {
   "cell_type": "code",
   "execution_count": 31,
   "metadata": {
    "execution": {
     "iopub.execute_input": "2022-07-10T10:42:57.555973Z",
     "iopub.status.busy": "2022-07-10T10:42:57.555101Z",
     "iopub.status.idle": "2022-07-10T10:42:57.561244Z",
     "shell.execute_reply": "2022-07-10T10:42:57.560127Z",
     "shell.execute_reply.started": "2022-07-10T10:42:57.555926Z"
    }
   },
   "outputs": [],
   "source": [
    "# no. of alphabets in the data\n",
    "# no. of sentences in the data\n",
    "# no. of words in the data"
   ]
  },
  {
   "cell_type": "markdown",
   "metadata": {},
   "source": [
    "### *Now lets make 3 new columns in the data depicting the no. of characters,words and sentences*"
   ]
  },
  {
   "cell_type": "code",
   "execution_count": 32,
   "metadata": {
    "execution": {
     "iopub.execute_input": "2022-07-10T10:42:57.563517Z",
     "iopub.status.busy": "2022-07-10T10:42:57.562772Z",
     "iopub.status.idle": "2022-07-10T10:42:57.572444Z",
     "shell.execute_reply": "2022-07-10T10:42:57.571362Z",
     "shell.execute_reply.started": "2022-07-10T10:42:57.563474Z"
    }
   },
   "outputs": [],
   "source": [
    "#natural language tool kit\n",
    "import nltk"
   ]
  },
  {
   "cell_type": "code",
   "execution_count": 33,
   "metadata": {
    "execution": {
     "iopub.execute_input": "2022-07-10T10:42:57.574917Z",
     "iopub.status.busy": "2022-07-10T10:42:57.574196Z",
     "iopub.status.idle": "2022-07-10T10:42:57.603755Z",
     "shell.execute_reply": "2022-07-10T10:42:57.602485Z",
     "shell.execute_reply.started": "2022-07-10T10:42:57.574876Z"
    }
   },
   "outputs": [
    {
     "data": {
      "text/html": [
       "<div>\n",
       "<style scoped>\n",
       "    .dataframe tbody tr th:only-of-type {\n",
       "        vertical-align: middle;\n",
       "    }\n",
       "\n",
       "    .dataframe tbody tr th {\n",
       "        vertical-align: top;\n",
       "    }\n",
       "\n",
       "    .dataframe thead th {\n",
       "        text-align: right;\n",
       "    }\n",
       "</style>\n",
       "<table border=\"1\" class=\"dataframe\">\n",
       "  <thead>\n",
       "    <tr style=\"text-align: right;\">\n",
       "      <th></th>\n",
       "      <th>message_type</th>\n",
       "      <th>message</th>\n",
       "      <th>num_characters</th>\n",
       "    </tr>\n",
       "  </thead>\n",
       "  <tbody>\n",
       "    <tr>\n",
       "      <th>0</th>\n",
       "      <td>0</td>\n",
       "      <td>Go until jurong point, crazy.. Available only ...</td>\n",
       "      <td>111</td>\n",
       "    </tr>\n",
       "    <tr>\n",
       "      <th>1</th>\n",
       "      <td>0</td>\n",
       "      <td>Ok lar... Joking wif u oni...</td>\n",
       "      <td>29</td>\n",
       "    </tr>\n",
       "    <tr>\n",
       "      <th>2</th>\n",
       "      <td>1</td>\n",
       "      <td>Free entry in 2 a wkly comp to win FA Cup fina...</td>\n",
       "      <td>155</td>\n",
       "    </tr>\n",
       "    <tr>\n",
       "      <th>3</th>\n",
       "      <td>0</td>\n",
       "      <td>U dun say so early hor... U c already then say...</td>\n",
       "      <td>49</td>\n",
       "    </tr>\n",
       "    <tr>\n",
       "      <th>4</th>\n",
       "      <td>0</td>\n",
       "      <td>Nah I don't think he goes to usf, he lives aro...</td>\n",
       "      <td>61</td>\n",
       "    </tr>\n",
       "  </tbody>\n",
       "</table>\n",
       "</div>"
      ],
      "text/plain": [
       "   message_type                                            message  \\\n",
       "0             0  Go until jurong point, crazy.. Available only ...   \n",
       "1             0                      Ok lar... Joking wif u oni...   \n",
       "2             1  Free entry in 2 a wkly comp to win FA Cup fina...   \n",
       "3             0  U dun say so early hor... U c already then say...   \n",
       "4             0  Nah I don't think he goes to usf, he lives aro...   \n",
       "\n",
       "   num_characters  \n",
       "0             111  \n",
       "1              29  \n",
       "2             155  \n",
       "3              49  \n",
       "4              61  "
      ]
     },
     "execution_count": 33,
     "metadata": {},
     "output_type": "execute_result"
    }
   ],
   "source": [
    "#find the number of alpha numeric characters in the messages column\n",
    "df['num_characters']=df['message'].apply(len)\n",
    "df.head()"
   ]
  },
  {
   "cell_type": "code",
   "execution_count": 34,
   "metadata": {
    "execution": {
     "iopub.execute_input": "2022-07-10T10:42:57.607232Z",
     "iopub.status.busy": "2022-07-10T10:42:57.605771Z",
     "iopub.status.idle": "2022-07-10T10:42:59.209235Z",
     "shell.execute_reply": "2022-07-10T10:42:59.208135Z",
     "shell.execute_reply.started": "2022-07-10T10:42:57.607179Z"
    }
   },
   "outputs": [
    {
     "ename": "LookupError",
     "evalue": "\n**********************************************************************\n  Resource \u001b[93mpunkt\u001b[0m not found.\n  Please use the NLTK Downloader to obtain the resource:\n\n  \u001b[31m>>> import nltk\n  >>> nltk.download('punkt')\n  \u001b[0m\n  For more information see: https://www.nltk.org/data.html\n\n  Attempted to load \u001b[93mtokenizers/punkt/PY3/english.pickle\u001b[0m\n\n  Searched in:\n    - '/Users/riyaparikh/nltk_data'\n    - '/Library/Frameworks/Python.framework/Versions/3.10/nltk_data'\n    - '/Library/Frameworks/Python.framework/Versions/3.10/share/nltk_data'\n    - '/Library/Frameworks/Python.framework/Versions/3.10/lib/nltk_data'\n    - '/usr/share/nltk_data'\n    - '/usr/local/share/nltk_data'\n    - '/usr/lib/nltk_data'\n    - '/usr/local/lib/nltk_data'\n    - ''\n**********************************************************************\n",
     "output_type": "error",
     "traceback": [
      "\u001b[0;31m---------------------------------------------------------------------------\u001b[0m",
      "\u001b[0;31mLookupError\u001b[0m                               Traceback (most recent call last)",
      "Input \u001b[0;32mIn [34]\u001b[0m, in \u001b[0;36m<cell line: 4>\u001b[0;34m()\u001b[0m\n\u001b[1;32m      2\u001b[0m \u001b[38;5;28;01mfrom\u001b[39;00m \u001b[38;5;21;01mnltk\u001b[39;00m\u001b[38;5;21;01m.\u001b[39;00m\u001b[38;5;21;01mtokenize\u001b[39;00m \u001b[38;5;28;01mimport\u001b[39;00m word_tokenize\n\u001b[1;32m      3\u001b[0m \u001b[38;5;66;03m#word tokenization\u001b[39;00m\n\u001b[0;32m----> 4\u001b[0m \u001b[43mdf\u001b[49m\u001b[43m[\u001b[49m\u001b[38;5;124;43m'\u001b[39;49m\u001b[38;5;124;43mmessage\u001b[39;49m\u001b[38;5;124;43m'\u001b[39;49m\u001b[43m]\u001b[49m\u001b[38;5;241;43m.\u001b[39;49m\u001b[43mapply\u001b[49m\u001b[43m(\u001b[49m\u001b[38;5;28;43;01mlambda\u001b[39;49;00m\u001b[43m \u001b[49m\u001b[43mx\u001b[49m\u001b[43m:\u001b[49m\u001b[43m \u001b[49m\u001b[43mnltk\u001b[49m\u001b[38;5;241;43m.\u001b[39;49m\u001b[43mword_tokenize\u001b[49m\u001b[43m(\u001b[49m\u001b[43mx\u001b[49m\u001b[43m)\u001b[49m\u001b[43m)\u001b[49m\n",
      "File \u001b[0;32m/Library/Frameworks/Python.framework/Versions/3.10/lib/python3.10/site-packages/pandas/core/series.py:4433\u001b[0m, in \u001b[0;36mSeries.apply\u001b[0;34m(self, func, convert_dtype, args, **kwargs)\u001b[0m\n\u001b[1;32m   4323\u001b[0m \u001b[38;5;28;01mdef\u001b[39;00m \u001b[38;5;21mapply\u001b[39m(\n\u001b[1;32m   4324\u001b[0m     \u001b[38;5;28mself\u001b[39m,\n\u001b[1;32m   4325\u001b[0m     func: AggFuncType,\n\u001b[0;32m   (...)\u001b[0m\n\u001b[1;32m   4328\u001b[0m     \u001b[38;5;241m*\u001b[39m\u001b[38;5;241m*\u001b[39mkwargs,\n\u001b[1;32m   4329\u001b[0m ) \u001b[38;5;241m-\u001b[39m\u001b[38;5;241m>\u001b[39m DataFrame \u001b[38;5;241m|\u001b[39m Series:\n\u001b[1;32m   4330\u001b[0m     \u001b[38;5;124;03m\"\"\"\u001b[39;00m\n\u001b[1;32m   4331\u001b[0m \u001b[38;5;124;03m    Invoke function on values of Series.\u001b[39;00m\n\u001b[1;32m   4332\u001b[0m \n\u001b[0;32m   (...)\u001b[0m\n\u001b[1;32m   4431\u001b[0m \u001b[38;5;124;03m    dtype: float64\u001b[39;00m\n\u001b[1;32m   4432\u001b[0m \u001b[38;5;124;03m    \"\"\"\u001b[39;00m\n\u001b[0;32m-> 4433\u001b[0m     \u001b[38;5;28;01mreturn\u001b[39;00m \u001b[43mSeriesApply\u001b[49m\u001b[43m(\u001b[49m\u001b[38;5;28;43mself\u001b[39;49m\u001b[43m,\u001b[49m\u001b[43m \u001b[49m\u001b[43mfunc\u001b[49m\u001b[43m,\u001b[49m\u001b[43m \u001b[49m\u001b[43mconvert_dtype\u001b[49m\u001b[43m,\u001b[49m\u001b[43m \u001b[49m\u001b[43margs\u001b[49m\u001b[43m,\u001b[49m\u001b[43m \u001b[49m\u001b[43mkwargs\u001b[49m\u001b[43m)\u001b[49m\u001b[38;5;241;43m.\u001b[39;49m\u001b[43mapply\u001b[49m\u001b[43m(\u001b[49m\u001b[43m)\u001b[49m\n",
      "File \u001b[0;32m/Library/Frameworks/Python.framework/Versions/3.10/lib/python3.10/site-packages/pandas/core/apply.py:1088\u001b[0m, in \u001b[0;36mSeriesApply.apply\u001b[0;34m(self)\u001b[0m\n\u001b[1;32m   1084\u001b[0m \u001b[38;5;28;01mif\u001b[39;00m \u001b[38;5;28misinstance\u001b[39m(\u001b[38;5;28mself\u001b[39m\u001b[38;5;241m.\u001b[39mf, \u001b[38;5;28mstr\u001b[39m):\n\u001b[1;32m   1085\u001b[0m     \u001b[38;5;66;03m# if we are a string, try to dispatch\u001b[39;00m\n\u001b[1;32m   1086\u001b[0m     \u001b[38;5;28;01mreturn\u001b[39;00m \u001b[38;5;28mself\u001b[39m\u001b[38;5;241m.\u001b[39mapply_str()\n\u001b[0;32m-> 1088\u001b[0m \u001b[38;5;28;01mreturn\u001b[39;00m \u001b[38;5;28;43mself\u001b[39;49m\u001b[38;5;241;43m.\u001b[39;49m\u001b[43mapply_standard\u001b[49m\u001b[43m(\u001b[49m\u001b[43m)\u001b[49m\n",
      "File \u001b[0;32m/Library/Frameworks/Python.framework/Versions/3.10/lib/python3.10/site-packages/pandas/core/apply.py:1143\u001b[0m, in \u001b[0;36mSeriesApply.apply_standard\u001b[0;34m(self)\u001b[0m\n\u001b[1;32m   1137\u001b[0m         values \u001b[38;5;241m=\u001b[39m obj\u001b[38;5;241m.\u001b[39mastype(\u001b[38;5;28mobject\u001b[39m)\u001b[38;5;241m.\u001b[39m_values\n\u001b[1;32m   1138\u001b[0m         \u001b[38;5;66;03m# error: Argument 2 to \"map_infer\" has incompatible type\u001b[39;00m\n\u001b[1;32m   1139\u001b[0m         \u001b[38;5;66;03m# \"Union[Callable[..., Any], str, List[Union[Callable[..., Any], str]],\u001b[39;00m\n\u001b[1;32m   1140\u001b[0m         \u001b[38;5;66;03m# Dict[Hashable, Union[Union[Callable[..., Any], str],\u001b[39;00m\n\u001b[1;32m   1141\u001b[0m         \u001b[38;5;66;03m# List[Union[Callable[..., Any], str]]]]]\"; expected\u001b[39;00m\n\u001b[1;32m   1142\u001b[0m         \u001b[38;5;66;03m# \"Callable[[Any], Any]\"\u001b[39;00m\n\u001b[0;32m-> 1143\u001b[0m         mapped \u001b[38;5;241m=\u001b[39m \u001b[43mlib\u001b[49m\u001b[38;5;241;43m.\u001b[39;49m\u001b[43mmap_infer\u001b[49m\u001b[43m(\u001b[49m\n\u001b[1;32m   1144\u001b[0m \u001b[43m            \u001b[49m\u001b[43mvalues\u001b[49m\u001b[43m,\u001b[49m\n\u001b[1;32m   1145\u001b[0m \u001b[43m            \u001b[49m\u001b[43mf\u001b[49m\u001b[43m,\u001b[49m\u001b[43m  \u001b[49m\u001b[38;5;66;43;03m# type: ignore[arg-type]\u001b[39;49;00m\n\u001b[1;32m   1146\u001b[0m \u001b[43m            \u001b[49m\u001b[43mconvert\u001b[49m\u001b[38;5;241;43m=\u001b[39;49m\u001b[38;5;28;43mself\u001b[39;49m\u001b[38;5;241;43m.\u001b[39;49m\u001b[43mconvert_dtype\u001b[49m\u001b[43m,\u001b[49m\n\u001b[1;32m   1147\u001b[0m \u001b[43m        \u001b[49m\u001b[43m)\u001b[49m\n\u001b[1;32m   1149\u001b[0m \u001b[38;5;28;01mif\u001b[39;00m \u001b[38;5;28mlen\u001b[39m(mapped) \u001b[38;5;129;01mand\u001b[39;00m \u001b[38;5;28misinstance\u001b[39m(mapped[\u001b[38;5;241m0\u001b[39m], ABCSeries):\n\u001b[1;32m   1150\u001b[0m     \u001b[38;5;66;03m# GH#43986 Need to do list(mapped) in order to get treated as nested\u001b[39;00m\n\u001b[1;32m   1151\u001b[0m     \u001b[38;5;66;03m#  See also GH#25959 regarding EA support\u001b[39;00m\n\u001b[1;32m   1152\u001b[0m     \u001b[38;5;28;01mreturn\u001b[39;00m obj\u001b[38;5;241m.\u001b[39m_constructor_expanddim(\u001b[38;5;28mlist\u001b[39m(mapped), index\u001b[38;5;241m=\u001b[39mobj\u001b[38;5;241m.\u001b[39mindex)\n",
      "File \u001b[0;32m/Library/Frameworks/Python.framework/Versions/3.10/lib/python3.10/site-packages/pandas/_libs/lib.pyx:2870\u001b[0m, in \u001b[0;36mpandas._libs.lib.map_infer\u001b[0;34m()\u001b[0m\n",
      "Input \u001b[0;32mIn [34]\u001b[0m, in \u001b[0;36m<lambda>\u001b[0;34m(x)\u001b[0m\n\u001b[1;32m      2\u001b[0m \u001b[38;5;28;01mfrom\u001b[39;00m \u001b[38;5;21;01mnltk\u001b[39;00m\u001b[38;5;21;01m.\u001b[39;00m\u001b[38;5;21;01mtokenize\u001b[39;00m \u001b[38;5;28;01mimport\u001b[39;00m word_tokenize\n\u001b[1;32m      3\u001b[0m \u001b[38;5;66;03m#word tokenization\u001b[39;00m\n\u001b[0;32m----> 4\u001b[0m df[\u001b[38;5;124m'\u001b[39m\u001b[38;5;124mmessage\u001b[39m\u001b[38;5;124m'\u001b[39m]\u001b[38;5;241m.\u001b[39mapply(\u001b[38;5;28;01mlambda\u001b[39;00m x: \u001b[43mnltk\u001b[49m\u001b[38;5;241;43m.\u001b[39;49m\u001b[43mword_tokenize\u001b[49m\u001b[43m(\u001b[49m\u001b[43mx\u001b[49m\u001b[43m)\u001b[49m)\n",
      "File \u001b[0;32m/Library/Frameworks/Python.framework/Versions/3.10/lib/python3.10/site-packages/nltk/tokenize/__init__.py:129\u001b[0m, in \u001b[0;36mword_tokenize\u001b[0;34m(text, language, preserve_line)\u001b[0m\n\u001b[1;32m    114\u001b[0m \u001b[38;5;28;01mdef\u001b[39;00m \u001b[38;5;21mword_tokenize\u001b[39m(text, language\u001b[38;5;241m=\u001b[39m\u001b[38;5;124m\"\u001b[39m\u001b[38;5;124menglish\u001b[39m\u001b[38;5;124m\"\u001b[39m, preserve_line\u001b[38;5;241m=\u001b[39m\u001b[38;5;28;01mFalse\u001b[39;00m):\n\u001b[1;32m    115\u001b[0m     \u001b[38;5;124;03m\"\"\"\u001b[39;00m\n\u001b[1;32m    116\u001b[0m \u001b[38;5;124;03m    Return a tokenized copy of *text*,\u001b[39;00m\n\u001b[1;32m    117\u001b[0m \u001b[38;5;124;03m    using NLTK's recommended word tokenizer\u001b[39;00m\n\u001b[0;32m   (...)\u001b[0m\n\u001b[1;32m    127\u001b[0m \u001b[38;5;124;03m    :type preserve_line: bool\u001b[39;00m\n\u001b[1;32m    128\u001b[0m \u001b[38;5;124;03m    \"\"\"\u001b[39;00m\n\u001b[0;32m--> 129\u001b[0m     sentences \u001b[38;5;241m=\u001b[39m [text] \u001b[38;5;28;01mif\u001b[39;00m preserve_line \u001b[38;5;28;01melse\u001b[39;00m \u001b[43msent_tokenize\u001b[49m\u001b[43m(\u001b[49m\u001b[43mtext\u001b[49m\u001b[43m,\u001b[49m\u001b[43m \u001b[49m\u001b[43mlanguage\u001b[49m\u001b[43m)\u001b[49m\n\u001b[1;32m    130\u001b[0m     \u001b[38;5;28;01mreturn\u001b[39;00m [\n\u001b[1;32m    131\u001b[0m         token \u001b[38;5;28;01mfor\u001b[39;00m sent \u001b[38;5;129;01min\u001b[39;00m sentences \u001b[38;5;28;01mfor\u001b[39;00m token \u001b[38;5;129;01min\u001b[39;00m _treebank_word_tokenizer\u001b[38;5;241m.\u001b[39mtokenize(sent)\n\u001b[1;32m    132\u001b[0m     ]\n",
      "File \u001b[0;32m/Library/Frameworks/Python.framework/Versions/3.10/lib/python3.10/site-packages/nltk/tokenize/__init__.py:106\u001b[0m, in \u001b[0;36msent_tokenize\u001b[0;34m(text, language)\u001b[0m\n\u001b[1;32m     96\u001b[0m \u001b[38;5;28;01mdef\u001b[39;00m \u001b[38;5;21msent_tokenize\u001b[39m(text, language\u001b[38;5;241m=\u001b[39m\u001b[38;5;124m\"\u001b[39m\u001b[38;5;124menglish\u001b[39m\u001b[38;5;124m\"\u001b[39m):\n\u001b[1;32m     97\u001b[0m     \u001b[38;5;124;03m\"\"\"\u001b[39;00m\n\u001b[1;32m     98\u001b[0m \u001b[38;5;124;03m    Return a sentence-tokenized copy of *text*,\u001b[39;00m\n\u001b[1;32m     99\u001b[0m \u001b[38;5;124;03m    using NLTK's recommended sentence tokenizer\u001b[39;00m\n\u001b[0;32m   (...)\u001b[0m\n\u001b[1;32m    104\u001b[0m \u001b[38;5;124;03m    :param language: the model name in the Punkt corpus\u001b[39;00m\n\u001b[1;32m    105\u001b[0m \u001b[38;5;124;03m    \"\"\"\u001b[39;00m\n\u001b[0;32m--> 106\u001b[0m     tokenizer \u001b[38;5;241m=\u001b[39m \u001b[43mload\u001b[49m\u001b[43m(\u001b[49m\u001b[38;5;124;43mf\u001b[39;49m\u001b[38;5;124;43m\"\u001b[39;49m\u001b[38;5;124;43mtokenizers/punkt/\u001b[39;49m\u001b[38;5;132;43;01m{\u001b[39;49;00m\u001b[43mlanguage\u001b[49m\u001b[38;5;132;43;01m}\u001b[39;49;00m\u001b[38;5;124;43m.pickle\u001b[39;49m\u001b[38;5;124;43m\"\u001b[39;49m\u001b[43m)\u001b[49m\n\u001b[1;32m    107\u001b[0m     \u001b[38;5;28;01mreturn\u001b[39;00m tokenizer\u001b[38;5;241m.\u001b[39mtokenize(text)\n",
      "File \u001b[0;32m/Library/Frameworks/Python.framework/Versions/3.10/lib/python3.10/site-packages/nltk/data.py:750\u001b[0m, in \u001b[0;36mload\u001b[0;34m(resource_url, format, cache, verbose, logic_parser, fstruct_reader, encoding)\u001b[0m\n\u001b[1;32m    747\u001b[0m     \u001b[38;5;28mprint\u001b[39m(\u001b[38;5;124mf\u001b[39m\u001b[38;5;124m\"\u001b[39m\u001b[38;5;124m<<Loading \u001b[39m\u001b[38;5;132;01m{\u001b[39;00mresource_url\u001b[38;5;132;01m}\u001b[39;00m\u001b[38;5;124m>>\u001b[39m\u001b[38;5;124m\"\u001b[39m)\n\u001b[1;32m    749\u001b[0m \u001b[38;5;66;03m# Load the resource.\u001b[39;00m\n\u001b[0;32m--> 750\u001b[0m opened_resource \u001b[38;5;241m=\u001b[39m \u001b[43m_open\u001b[49m\u001b[43m(\u001b[49m\u001b[43mresource_url\u001b[49m\u001b[43m)\u001b[49m\n\u001b[1;32m    752\u001b[0m \u001b[38;5;28;01mif\u001b[39;00m \u001b[38;5;28mformat\u001b[39m \u001b[38;5;241m==\u001b[39m \u001b[38;5;124m\"\u001b[39m\u001b[38;5;124mraw\u001b[39m\u001b[38;5;124m\"\u001b[39m:\n\u001b[1;32m    753\u001b[0m     resource_val \u001b[38;5;241m=\u001b[39m opened_resource\u001b[38;5;241m.\u001b[39mread()\n",
      "File \u001b[0;32m/Library/Frameworks/Python.framework/Versions/3.10/lib/python3.10/site-packages/nltk/data.py:876\u001b[0m, in \u001b[0;36m_open\u001b[0;34m(resource_url)\u001b[0m\n\u001b[1;32m    873\u001b[0m protocol, path_ \u001b[38;5;241m=\u001b[39m split_resource_url(resource_url)\n\u001b[1;32m    875\u001b[0m \u001b[38;5;28;01mif\u001b[39;00m protocol \u001b[38;5;129;01mis\u001b[39;00m \u001b[38;5;28;01mNone\u001b[39;00m \u001b[38;5;129;01mor\u001b[39;00m protocol\u001b[38;5;241m.\u001b[39mlower() \u001b[38;5;241m==\u001b[39m \u001b[38;5;124m\"\u001b[39m\u001b[38;5;124mnltk\u001b[39m\u001b[38;5;124m\"\u001b[39m:\n\u001b[0;32m--> 876\u001b[0m     \u001b[38;5;28;01mreturn\u001b[39;00m \u001b[43mfind\u001b[49m\u001b[43m(\u001b[49m\u001b[43mpath_\u001b[49m\u001b[43m,\u001b[49m\u001b[43m \u001b[49m\u001b[43mpath\u001b[49m\u001b[43m \u001b[49m\u001b[38;5;241;43m+\u001b[39;49m\u001b[43m \u001b[49m\u001b[43m[\u001b[49m\u001b[38;5;124;43m\"\u001b[39;49m\u001b[38;5;124;43m\"\u001b[39;49m\u001b[43m]\u001b[49m\u001b[43m)\u001b[49m\u001b[38;5;241m.\u001b[39mopen()\n\u001b[1;32m    877\u001b[0m \u001b[38;5;28;01melif\u001b[39;00m protocol\u001b[38;5;241m.\u001b[39mlower() \u001b[38;5;241m==\u001b[39m \u001b[38;5;124m\"\u001b[39m\u001b[38;5;124mfile\u001b[39m\u001b[38;5;124m\"\u001b[39m:\n\u001b[1;32m    878\u001b[0m     \u001b[38;5;66;03m# urllib might not use mode='rb', so handle this one ourselves:\u001b[39;00m\n\u001b[1;32m    879\u001b[0m     \u001b[38;5;28;01mreturn\u001b[39;00m find(path_, [\u001b[38;5;124m\"\u001b[39m\u001b[38;5;124m\"\u001b[39m])\u001b[38;5;241m.\u001b[39mopen()\n",
      "File \u001b[0;32m/Library/Frameworks/Python.framework/Versions/3.10/lib/python3.10/site-packages/nltk/data.py:583\u001b[0m, in \u001b[0;36mfind\u001b[0;34m(resource_name, paths)\u001b[0m\n\u001b[1;32m    581\u001b[0m sep \u001b[38;5;241m=\u001b[39m \u001b[38;5;124m\"\u001b[39m\u001b[38;5;124m*\u001b[39m\u001b[38;5;124m\"\u001b[39m \u001b[38;5;241m*\u001b[39m \u001b[38;5;241m70\u001b[39m\n\u001b[1;32m    582\u001b[0m resource_not_found \u001b[38;5;241m=\u001b[39m \u001b[38;5;124mf\u001b[39m\u001b[38;5;124m\"\u001b[39m\u001b[38;5;130;01m\\n\u001b[39;00m\u001b[38;5;132;01m{\u001b[39;00msep\u001b[38;5;132;01m}\u001b[39;00m\u001b[38;5;130;01m\\n\u001b[39;00m\u001b[38;5;132;01m{\u001b[39;00mmsg\u001b[38;5;132;01m}\u001b[39;00m\u001b[38;5;130;01m\\n\u001b[39;00m\u001b[38;5;132;01m{\u001b[39;00msep\u001b[38;5;132;01m}\u001b[39;00m\u001b[38;5;130;01m\\n\u001b[39;00m\u001b[38;5;124m\"\u001b[39m\n\u001b[0;32m--> 583\u001b[0m \u001b[38;5;28;01mraise\u001b[39;00m \u001b[38;5;167;01mLookupError\u001b[39;00m(resource_not_found)\n",
      "\u001b[0;31mLookupError\u001b[0m: \n**********************************************************************\n  Resource \u001b[93mpunkt\u001b[0m not found.\n  Please use the NLTK Downloader to obtain the resource:\n\n  \u001b[31m>>> import nltk\n  >>> nltk.download('punkt')\n  \u001b[0m\n  For more information see: https://www.nltk.org/data.html\n\n  Attempted to load \u001b[93mtokenizers/punkt/PY3/english.pickle\u001b[0m\n\n  Searched in:\n    - '/Users/riyaparikh/nltk_data'\n    - '/Library/Frameworks/Python.framework/Versions/3.10/nltk_data'\n    - '/Library/Frameworks/Python.framework/Versions/3.10/share/nltk_data'\n    - '/Library/Frameworks/Python.framework/Versions/3.10/lib/nltk_data'\n    - '/usr/share/nltk_data'\n    - '/usr/local/share/nltk_data'\n    - '/usr/lib/nltk_data'\n    - '/usr/local/lib/nltk_data'\n    - ''\n**********************************************************************\n"
     ]
    }
   ],
   "source": [
    "#fetch number of words using NLTK\n",
    "from nltk.tokenize import word_tokenize\n",
    "#word tokenization\n",
    "df['message'].apply(lambda x: nltk.word_tokenize(x))"
   ]
  },
  {
   "cell_type": "code",
   "execution_count": null,
   "metadata": {
    "execution": {
     "iopub.execute_input": "2022-07-10T10:42:59.211742Z",
     "iopub.status.busy": "2022-07-10T10:42:59.211063Z",
     "iopub.status.idle": "2022-07-10T10:43:00.809135Z",
     "shell.execute_reply": "2022-07-10T10:43:00.807865Z",
     "shell.execute_reply.started": "2022-07-10T10:42:59.211694Z"
    }
   },
   "outputs": [],
   "source": [
    "#now find the length of each of the list to get the total number of words in each list\n",
    "df['num_words']=df['message'].apply(lambda x:len(nltk.word_tokenize(x)))\n",
    "df.sample(5)"
   ]
  },
  {
   "cell_type": "code",
   "execution_count": null,
   "metadata": {
    "execution": {
     "iopub.execute_input": "2022-07-10T10:43:00.811078Z",
     "iopub.status.busy": "2022-07-10T10:43:00.810661Z",
     "iopub.status.idle": "2022-07-10T10:43:01.20617Z",
     "shell.execute_reply": "2022-07-10T10:43:01.205087Z",
     "shell.execute_reply.started": "2022-07-10T10:43:00.811038Z"
    }
   },
   "outputs": [],
   "source": [
    "#finding number of sentences\n",
    "df['num_sentences']=df['message'].apply(lambda x: nltk.sent_tokenize(x))\n",
    "df.sample(5)"
   ]
  },
  {
   "cell_type": "code",
   "execution_count": null,
   "metadata": {
    "execution": {
     "iopub.execute_input": "2022-07-10T10:43:01.208893Z",
     "iopub.status.busy": "2022-07-10T10:43:01.207724Z",
     "iopub.status.idle": "2022-07-10T10:43:01.585729Z",
     "shell.execute_reply": "2022-07-10T10:43:01.584726Z",
     "shell.execute_reply.started": "2022-07-10T10:43:01.208859Z"
    }
   },
   "outputs": [],
   "source": [
    "#finding no. of sentences\n",
    "df['num_sentences']=df['message'].apply(lambda x: len(nltk.sent_tokenize(x)))\n",
    "df.sample(5)"
   ]
  },
  {
   "cell_type": "code",
   "execution_count": null,
   "metadata": {
    "execution": {
     "iopub.execute_input": "2022-07-10T10:43:01.587506Z",
     "iopub.status.busy": "2022-07-10T10:43:01.587212Z",
     "iopub.status.idle": "2022-07-10T10:43:01.608307Z",
     "shell.execute_reply": "2022-07-10T10:43:01.607633Z",
     "shell.execute_reply.started": "2022-07-10T10:43:01.58748Z"
    }
   },
   "outputs": [],
   "source": [
    "#lets test the describe function on the new 3 columns\n",
    "df[['num_characters','num_words','num_sentences']].describe()"
   ]
  },
  {
   "cell_type": "markdown",
   "metadata": {},
   "source": [
    "### For 'ham' messages"
   ]
  },
  {
   "cell_type": "code",
   "execution_count": null,
   "metadata": {
    "execution": {
     "iopub.execute_input": "2022-07-10T10:43:01.61012Z",
     "iopub.status.busy": "2022-07-10T10:43:01.609594Z",
     "iopub.status.idle": "2022-07-10T10:43:01.632054Z",
     "shell.execute_reply": "2022-07-10T10:43:01.630972Z",
     "shell.execute_reply.started": "2022-07-10T10:43:01.610089Z"
    }
   },
   "outputs": [],
   "source": [
    "# lets check describe() for both ham and spam individually\n",
    "df[df['message_type']==0][['num_characters','num_words','num_sentences']].describe()"
   ]
  },
  {
   "cell_type": "markdown",
   "metadata": {},
   "source": [
    "### For 'spam' messages"
   ]
  },
  {
   "cell_type": "code",
   "execution_count": null,
   "metadata": {
    "execution": {
     "iopub.execute_input": "2022-07-10T10:43:01.633973Z",
     "iopub.status.busy": "2022-07-10T10:43:01.633623Z",
     "iopub.status.idle": "2022-07-10T10:43:01.656176Z",
     "shell.execute_reply": "2022-07-10T10:43:01.655124Z",
     "shell.execute_reply.started": "2022-07-10T10:43:01.633944Z"
    }
   },
   "outputs": [],
   "source": [
    "df[df['message_type']==1][['num_characters','num_words','num_sentences']].describe()"
   ]
  },
  {
   "cell_type": "markdown",
   "metadata": {},
   "source": [
    "\n",
    "#### we can clearly see the spam messages are quite longer than the ham messages"
   ]
  },
  {
   "cell_type": "code",
   "execution_count": null,
   "metadata": {
    "execution": {
     "iopub.execute_input": "2022-07-10T10:43:01.658455Z",
     "iopub.status.busy": "2022-07-10T10:43:01.657646Z",
     "iopub.status.idle": "2022-07-10T10:43:02.156735Z",
     "shell.execute_reply": "2022-07-10T10:43:02.155709Z",
     "shell.execute_reply.started": "2022-07-10T10:43:01.658423Z"
    }
   },
   "outputs": [],
   "source": [
    "#for characters\n",
    "plt.figure(figsize=(12,6))\n",
    "sns.histplot(df[df['message_type']==0]['num_characters'],color='green')\n",
    "sns.histplot(df[df['message_type']==1]['num_characters'],color = 'red')\n"
   ]
  },
  {
   "cell_type": "code",
   "execution_count": null,
   "metadata": {
    "execution": {
     "iopub.execute_input": "2022-07-10T10:43:02.159418Z",
     "iopub.status.busy": "2022-07-10T10:43:02.158384Z",
     "iopub.status.idle": "2022-07-10T10:43:02.624056Z",
     "shell.execute_reply": "2022-07-10T10:43:02.623047Z",
     "shell.execute_reply.started": "2022-07-10T10:43:02.15935Z"
    }
   },
   "outputs": [],
   "source": [
    "#for words\n",
    "plt.figure(figsize=(12,6))\n",
    "sns.histplot(df[df['message_type']==0]['num_words'],color='green')\n",
    "sns.histplot(df[df['message_type']==1]['num_words'],color='red')"
   ]
  },
  {
   "cell_type": "code",
   "execution_count": null,
   "metadata": {
    "execution": {
     "iopub.execute_input": "2022-07-10T10:43:02.625697Z",
     "iopub.status.busy": "2022-07-10T10:43:02.625293Z",
     "iopub.status.idle": "2022-07-10T10:43:06.614238Z",
     "shell.execute_reply": "2022-07-10T10:43:06.613431Z",
     "shell.execute_reply.started": "2022-07-10T10:43:02.625669Z"
    }
   },
   "outputs": [],
   "source": [
    "#plot pairplots for ham and spam\n",
    "sns.pairplot(df,hue='message_type')"
   ]
  },
  {
   "cell_type": "code",
   "execution_count": null,
   "metadata": {
    "execution": {
     "iopub.execute_input": "2022-07-10T10:43:06.616295Z",
     "iopub.status.busy": "2022-07-10T10:43:06.615428Z",
     "iopub.status.idle": "2022-07-10T10:43:06.628604Z",
     "shell.execute_reply": "2022-07-10T10:43:06.627579Z",
     "shell.execute_reply.started": "2022-07-10T10:43:06.616248Z"
    }
   },
   "outputs": [],
   "source": [
    "#find correlation\n",
    "df.corr()"
   ]
  },
  {
   "cell_type": "code",
   "execution_count": null,
   "metadata": {
    "execution": {
     "iopub.execute_input": "2022-07-10T10:43:06.630695Z",
     "iopub.status.busy": "2022-07-10T10:43:06.63009Z",
     "iopub.status.idle": "2022-07-10T10:43:06.923501Z",
     "shell.execute_reply": "2022-07-10T10:43:06.92235Z",
     "shell.execute_reply.started": "2022-07-10T10:43:06.630654Z"
    }
   },
   "outputs": [],
   "source": [
    "#plotting a heatmap for the correlation\n",
    "sns.heatmap(df.corr(),annot=True)"
   ]
  },
  {
   "cell_type": "markdown",
   "metadata": {},
   "source": [
    "*As we see multicollinearity here, we cannot use all three columns instead we shall use only one and that should be mun_characters has it has highest correlation with message_type*"
   ]
  },
  {
   "cell_type": "markdown",
   "metadata": {},
   "source": [
    "# 3. Data Preprocessing"
   ]
  },
  {
   "cell_type": "markdown",
   "metadata": {},
   "source": [
    "### 3.1 LowerCase\n",
    "### 3.2 Tokenisation\n",
    "### 3.3 Removing special characters\n",
    "### 3.4 Removing stop words and punctuation\n",
    "### 3.5 Stemming --lemmetization"
   ]
  },
  {
   "cell_type": "code",
   "execution_count": null,
   "metadata": {
    "execution": {
     "iopub.execute_input": "2022-07-10T10:43:06.926139Z",
     "iopub.status.busy": "2022-07-10T10:43:06.925036Z",
     "iopub.status.idle": "2022-07-10T10:43:06.936159Z",
     "shell.execute_reply": "2022-07-10T10:43:06.935241Z",
     "shell.execute_reply.started": "2022-07-10T10:43:06.926087Z"
    }
   },
   "outputs": [],
   "source": [
    "def text_transform(message):\n",
    "    message=message.lower() #change to lowercase\n",
    "    message=nltk.word_tokenize(message)#tokenization  and after that text is converted to a list\n",
    "    #so we run a loop in the message text\n",
    "    y=[] #creating empty list to append\n",
    "    for i in message:\n",
    "        if i.isalnum():\n",
    "            y.append(i)\n",
    "    #now lets assign the y list back to the message\n",
    "    #message = y   !!!!list can never be copied this way it is immutable data type so we have to do it by CLONING\n",
    "    message=y[:]\n",
    "    y.clear() #now y is cleared\n",
    "    \n",
    "    #for checking punctuations and stopwords\n",
    "    for i in message:\n",
    "        if i not in stopwords.words('english') and i not in string.punctuation:\n",
    "            y.append(i)\n",
    "    message=y[:]\n",
    "    y.clear()\n",
    "    \n",
    "    ##now stemming function\n",
    "    for i in message:\n",
    "        y.append(ps.stem(i))\n",
    "    \n",
    "    #return y  --> returns as list\n",
    "    return \" \".join(y)#returns in the form of string"
   ]
  },
  {
   "cell_type": "code",
   "execution_count": null,
   "metadata": {
    "execution": {
     "iopub.execute_input": "2022-07-10T10:43:06.937836Z",
     "iopub.status.busy": "2022-07-10T10:43:06.937508Z",
     "iopub.status.idle": "2022-07-10T10:43:06.953828Z",
     "shell.execute_reply": "2022-07-10T10:43:06.953086Z",
     "shell.execute_reply.started": "2022-07-10T10:43:06.937798Z"
    }
   },
   "outputs": [],
   "source": [
    "text_transform(\"THis is a SMS spam CLassifier playing,wasn't $3000\") ##see here the special character $ is ignored , no stopwords and no punctuation"
   ]
  },
  {
   "cell_type": "code",
   "execution_count": null,
   "metadata": {
    "execution": {
     "iopub.execute_input": "2022-07-10T10:43:06.955354Z",
     "iopub.status.busy": "2022-07-10T10:43:06.954732Z",
     "iopub.status.idle": "2022-07-10T10:43:06.964729Z",
     "shell.execute_reply": "2022-07-10T10:43:06.964023Z",
     "shell.execute_reply.started": "2022-07-10T10:43:06.955326Z"
    }
   },
   "outputs": [],
   "source": [
    "## Removing stop words and punctuations\n",
    "from nltk.corpus import stopwords\n",
    "stopwords.words('english')\n",
    "len(stopwords.words('english')) #length of stopwords available\n",
    "\n"
   ]
  },
  {
   "cell_type": "markdown",
   "metadata": {},
   "source": [
    "*This shows there are 179 stopwords in the english language in this library*"
   ]
  },
  {
   "cell_type": "code",
   "execution_count": null,
   "metadata": {
    "execution": {
     "iopub.execute_input": "2022-07-10T10:43:06.966824Z",
     "iopub.status.busy": "2022-07-10T10:43:06.966103Z",
     "iopub.status.idle": "2022-07-10T10:43:06.973415Z",
     "shell.execute_reply": "2022-07-10T10:43:06.972361Z",
     "shell.execute_reply.started": "2022-07-10T10:43:06.966761Z"
    }
   },
   "outputs": [],
   "source": [
    "#now for punctuation\n",
    "import string\n",
    "string.punctuation"
   ]
  },
  {
   "cell_type": "code",
   "execution_count": null,
   "metadata": {
    "execution": {
     "iopub.execute_input": "2022-07-10T10:43:06.975164Z",
     "iopub.status.busy": "2022-07-10T10:43:06.974719Z",
     "iopub.status.idle": "2022-07-10T10:43:06.985154Z",
     "shell.execute_reply": "2022-07-10T10:43:06.984486Z",
     "shell.execute_reply.started": "2022-07-10T10:43:06.975138Z"
    }
   },
   "outputs": [],
   "source": [
    "##stemming\n",
    "from nltk.stem.porter import PorterStemmer\n",
    "ps =PorterStemmer()\n",
    "ps.stem('playing')\n",
    "\n",
    "#we got the stemmed version of the word"
   ]
  },
  {
   "cell_type": "markdown",
   "metadata": {},
   "source": [
    "## Now lets apply the *text_transform* function to all the messages in the dataset"
   ]
  },
  {
   "cell_type": "code",
   "execution_count": null,
   "metadata": {
    "execution": {
     "iopub.execute_input": "2022-07-10T10:43:06.986951Z",
     "iopub.status.busy": "2022-07-10T10:43:06.98611Z",
     "iopub.status.idle": "2022-07-10T10:43:19.956293Z",
     "shell.execute_reply": "2022-07-10T10:43:19.955179Z",
     "shell.execute_reply.started": "2022-07-10T10:43:06.986923Z"
    }
   },
   "outputs": [],
   "source": [
    "df['message'].apply(text_transform)"
   ]
  },
  {
   "cell_type": "code",
   "execution_count": null,
   "metadata": {
    "execution": {
     "iopub.execute_input": "2022-07-10T10:43:19.958719Z",
     "iopub.status.busy": "2022-07-10T10:43:19.958308Z",
     "iopub.status.idle": "2022-07-10T10:43:32.708034Z",
     "shell.execute_reply": "2022-07-10T10:43:32.707208Z",
     "shell.execute_reply.started": "2022-07-10T10:43:19.95868Z"
    }
   },
   "outputs": [],
   "source": [
    "df['transformed_msg']=df['message'].apply(text_transform)"
   ]
  },
  {
   "cell_type": "code",
   "execution_count": null,
   "metadata": {
    "execution": {
     "iopub.execute_input": "2022-07-10T10:43:32.710131Z",
     "iopub.status.busy": "2022-07-10T10:43:32.709314Z",
     "iopub.status.idle": "2022-07-10T10:43:32.723432Z",
     "shell.execute_reply": "2022-07-10T10:43:32.722322Z",
     "shell.execute_reply.started": "2022-07-10T10:43:32.710095Z"
    }
   },
   "outputs": [],
   "source": [
    "df.head()"
   ]
  },
  {
   "cell_type": "markdown",
   "metadata": {},
   "source": [
    "### *Now we have to work basically on 2 columns the \"transformed_msg\" and \"message_type\"*"
   ]
  },
  {
   "cell_type": "markdown",
   "metadata": {},
   "source": [
    "# Word Cloud"
   ]
  },
  {
   "cell_type": "code",
   "execution_count": null,
   "metadata": {
    "execution": {
     "iopub.execute_input": "2022-07-10T10:43:32.725826Z",
     "iopub.status.busy": "2022-07-10T10:43:32.725028Z",
     "iopub.status.idle": "2022-07-10T10:43:32.731064Z",
     "shell.execute_reply": "2022-07-10T10:43:32.729839Z",
     "shell.execute_reply.started": "2022-07-10T10:43:32.725768Z"
    }
   },
   "outputs": [],
   "source": [
    "#drawing a word cloud of maximum occuring words in the messages\n",
    "from wordcloud import WordCloud\n",
    "#create its object\n",
    "wc=WordCloud(width=500,height=500,min_font_size=10,background_color='white')"
   ]
  },
  {
   "cell_type": "code",
   "execution_count": null,
   "metadata": {
    "execution": {
     "iopub.execute_input": "2022-07-10T10:43:32.732557Z",
     "iopub.status.busy": "2022-07-10T10:43:32.732267Z",
     "iopub.status.idle": "2022-07-10T10:43:33.127978Z",
     "shell.execute_reply": "2022-07-10T10:43:33.127008Z",
     "shell.execute_reply.started": "2022-07-10T10:43:32.73253Z"
    }
   },
   "outputs": [],
   "source": [
    "##word cloud for SPAM\n",
    "spam_wc=wc.generate(df[df['message_type']==1]['transformed_msg'].str.cat(sep=\"\"))"
   ]
  },
  {
   "cell_type": "code",
   "execution_count": null,
   "metadata": {
    "execution": {
     "iopub.execute_input": "2022-07-10T10:43:33.129856Z",
     "iopub.status.busy": "2022-07-10T10:43:33.129479Z",
     "iopub.status.idle": "2022-07-10T10:43:33.574711Z",
     "shell.execute_reply": "2022-07-10T10:43:33.570189Z",
     "shell.execute_reply.started": "2022-07-10T10:43:33.129822Z"
    }
   },
   "outputs": [],
   "source": [
    "#display the word cloud---SPAM\n",
    "plt.figure(figsize=(18,12))\n",
    "plt.imshow(spam_wc)"
   ]
  },
  {
   "cell_type": "code",
   "execution_count": null,
   "metadata": {
    "execution": {
     "iopub.execute_input": "2022-07-10T10:43:33.576904Z",
     "iopub.status.busy": "2022-07-10T10:43:33.576458Z",
     "iopub.status.idle": "2022-07-10T10:43:34.432767Z",
     "shell.execute_reply": "2022-07-10T10:43:34.431684Z",
     "shell.execute_reply.started": "2022-07-10T10:43:33.576864Z"
    }
   },
   "outputs": [],
   "source": [
    "## word cloud for ham messages\n",
    "ham_wc=wc.generate(df[df['message_type']==0]['transformed_msg'].str.cat(sep=\" \"))"
   ]
  },
  {
   "cell_type": "code",
   "execution_count": null,
   "metadata": {
    "execution": {
     "iopub.execute_input": "2022-07-10T10:43:34.435076Z",
     "iopub.status.busy": "2022-07-10T10:43:34.434364Z",
     "iopub.status.idle": "2022-07-10T10:43:34.90419Z",
     "shell.execute_reply": "2022-07-10T10:43:34.903019Z",
     "shell.execute_reply.started": "2022-07-10T10:43:34.435032Z"
    }
   },
   "outputs": [],
   "source": [
    "#show the wordcloud for ham messages\n",
    "plt.figure(figsize=(18,12))\n",
    "plt.imshow(ham_wc)\n"
   ]
  },
  {
   "cell_type": "markdown",
   "metadata": {},
   "source": [
    "### Lets find the top 30 words used in Ham and Spam"
   ]
  },
  {
   "cell_type": "code",
   "execution_count": null,
   "metadata": {
    "execution": {
     "iopub.execute_input": "2022-07-10T10:43:34.906616Z",
     "iopub.status.busy": "2022-07-10T10:43:34.905592Z",
     "iopub.status.idle": "2022-07-10T10:43:34.926341Z",
     "shell.execute_reply": "2022-07-10T10:43:34.925592Z",
     "shell.execute_reply.started": "2022-07-10T10:43:34.906581Z"
    }
   },
   "outputs": [],
   "source": [
    "##finding the top 30 words used in Ham and spam\n",
    "##lets write a custom code for this\n",
    "df[df['message_type']==1]['transformed_msg'].tolist()\n"
   ]
  },
  {
   "cell_type": "code",
   "execution_count": null,
   "metadata": {
    "execution": {
     "iopub.execute_input": "2022-07-10T10:43:34.93625Z",
     "iopub.status.busy": "2022-07-10T10:43:34.935205Z",
     "iopub.status.idle": "2022-07-10T10:43:34.945319Z",
     "shell.execute_reply": "2022-07-10T10:43:34.944589Z",
     "shell.execute_reply.started": "2022-07-10T10:43:34.936203Z"
    }
   },
   "outputs": [],
   "source": [
    "##Lets print all the spam messages\n",
    "spam_corpus=[]\n",
    "for msg in df[df['message_type']==1]['transformed_msg'].tolist():\n",
    "    for word in msg.split():\n",
    "        spam_corpus.append(word)\n",
    "       \n",
    "   "
   ]
  },
  {
   "cell_type": "code",
   "execution_count": null,
   "metadata": {
    "execution": {
     "iopub.execute_input": "2022-07-10T10:43:34.947316Z",
     "iopub.status.busy": "2022-07-10T10:43:34.946679Z",
     "iopub.status.idle": "2022-07-10T10:43:34.95588Z",
     "shell.execute_reply": "2022-07-10T10:43:34.955207Z",
     "shell.execute_reply.started": "2022-07-10T10:43:34.947276Z"
    }
   },
   "outputs": [],
   "source": [
    " len(spam_corpus)"
   ]
  },
  {
   "cell_type": "code",
   "execution_count": null,
   "metadata": {
    "execution": {
     "iopub.execute_input": "2022-07-10T10:43:34.957588Z",
     "iopub.status.busy": "2022-07-10T10:43:34.957069Z",
     "iopub.status.idle": "2022-07-10T10:43:35.00261Z",
     "shell.execute_reply": "2022-07-10T10:43:35.001553Z",
     "shell.execute_reply.started": "2022-07-10T10:43:34.957559Z"
    }
   },
   "outputs": [],
   "source": [
    "## now lets find the most occuring words\n",
    "from collections import Counter\n",
    "Counter(spam_corpus)"
   ]
  },
  {
   "cell_type": "code",
   "execution_count": null,
   "metadata": {
    "execution": {
     "iopub.execute_input": "2022-07-10T10:43:35.004193Z",
     "iopub.status.busy": "2022-07-10T10:43:35.003866Z",
     "iopub.status.idle": "2022-07-10T10:43:35.013658Z",
     "shell.execute_reply": "2022-07-10T10:43:35.012967Z",
     "shell.execute_reply.started": "2022-07-10T10:43:35.004163Z"
    }
   },
   "outputs": [],
   "source": [
    "#Top 30 \n",
    "Counter(spam_corpus).most_common(30)"
   ]
  },
  {
   "cell_type": "code",
   "execution_count": null,
   "metadata": {
    "execution": {
     "iopub.execute_input": "2022-07-10T10:43:35.015345Z",
     "iopub.status.busy": "2022-07-10T10:43:35.015047Z",
     "iopub.status.idle": "2022-07-10T10:43:35.034007Z",
     "shell.execute_reply": "2022-07-10T10:43:35.032295Z",
     "shell.execute_reply.started": "2022-07-10T10:43:35.015317Z"
    }
   },
   "outputs": [],
   "source": [
    "#Add those 30 words in one dataframe\n",
    "pd.DataFrame(Counter(spam_corpus).most_common(30))"
   ]
  },
  {
   "cell_type": "code",
   "execution_count": null,
   "metadata": {
    "execution": {
     "iopub.execute_input": "2022-07-10T10:43:35.036062Z",
     "iopub.status.busy": "2022-07-10T10:43:35.035404Z",
     "iopub.status.idle": "2022-07-10T10:43:35.458369Z",
     "shell.execute_reply": "2022-07-10T10:43:35.456975Z",
     "shell.execute_reply.started": "2022-07-10T10:43:35.036018Z"
    }
   },
   "outputs": [],
   "source": [
    "##plot the barplt\n",
    "plt.figure(figsize=(18,12))\n",
    "sns.barplot(pd.DataFrame(Counter(spam_corpus).most_common(30))[0],pd.DataFrame(Counter(spam_corpus).most_common(30))[1])\n",
    "plt.xticks(rotation='vertical')\n",
    "plt.show()\n"
   ]
  },
  {
   "cell_type": "code",
   "execution_count": null,
   "metadata": {
    "execution": {
     "iopub.execute_input": "2022-07-10T10:43:35.460097Z",
     "iopub.status.busy": "2022-07-10T10:43:35.459749Z",
     "iopub.status.idle": "2022-07-10T10:43:35.476327Z",
     "shell.execute_reply": "2022-07-10T10:43:35.47552Z",
     "shell.execute_reply.started": "2022-07-10T10:43:35.460067Z"
    }
   },
   "outputs": [],
   "source": [
    "# Find top 30 words for HAM\n",
    "ham_corpus=[]\n",
    "for msg in df[df['message_type']==0]['transformed_msg']:\n",
    "    for word in msg.split():\n",
    "        ham_corpus.append(word)\n"
   ]
  },
  {
   "cell_type": "code",
   "execution_count": null,
   "metadata": {
    "execution": {
     "iopub.execute_input": "2022-07-10T10:43:35.47867Z",
     "iopub.status.busy": "2022-07-10T10:43:35.4779Z",
     "iopub.status.idle": "2022-07-10T10:43:35.495922Z",
     "shell.execute_reply": "2022-07-10T10:43:35.49475Z",
     "shell.execute_reply.started": "2022-07-10T10:43:35.478623Z"
    }
   },
   "outputs": [],
   "source": [
    "Counter(ham_corpus).most_common(30)"
   ]
  },
  {
   "cell_type": "code",
   "execution_count": null,
   "metadata": {
    "execution": {
     "iopub.execute_input": "2022-07-10T10:43:35.498422Z",
     "iopub.status.busy": "2022-07-10T10:43:35.497431Z",
     "iopub.status.idle": "2022-07-10T10:43:35.911792Z",
     "shell.execute_reply": "2022-07-10T10:43:35.91084Z",
     "shell.execute_reply.started": "2022-07-10T10:43:35.498376Z"
    }
   },
   "outputs": [],
   "source": [
    "plt.figure(figsize=(18,12))\n",
    "sns.barplot(pd.DataFrame(Counter(ham_corpus).most_common(30))[0],pd.DataFrame(Counter(ham_corpus).most_common(30))[1])\n",
    "plt.xticks(rotation='vertical')\n",
    "plt.show()"
   ]
  },
  {
   "cell_type": "markdown",
   "metadata": {},
   "source": [
    "# 4. Model Building"
   ]
  },
  {
   "cell_type": "markdown",
   "metadata": {},
   "source": [
    "**As it known that on Textual Data Naive Bayes Algorithm works the best hence we will use it but along the way also compare it with different algorithms**"
   ]
  },
  {
   "cell_type": "markdown",
   "metadata": {},
   "source": [
    "*Input is categorical*\n",
    "*Output is Numerical*"
   ]
  },
  {
   "cell_type": "markdown",
   "metadata": {},
   "source": [
    "**but as we know in Naive bayes algorithm the input columns should be numerical so we have to convert(VECTORIZE) the column**"
   ]
  },
  {
   "cell_type": "markdown",
   "metadata": {},
   "source": [
    "### How to vectorize:\n",
    "* Bag of Words\n",
    "* TFIDF\n",
    "* Word2vec\n",
    "\n",
    "## Here we will be using BAG OF WORDS"
   ]
  },
  {
   "cell_type": "code",
   "execution_count": null,
   "metadata": {
    "execution": {
     "iopub.execute_input": "2022-07-10T10:43:35.913161Z",
     "iopub.status.busy": "2022-07-10T10:43:35.912893Z",
     "iopub.status.idle": "2022-07-10T10:43:35.918573Z",
     "shell.execute_reply": "2022-07-10T10:43:35.917605Z",
     "shell.execute_reply.started": "2022-07-10T10:43:35.913137Z"
    }
   },
   "outputs": [],
   "source": [
    "##Vectorization\n",
    "from sklearn.feature_extraction.text import CountVectorizer\n",
    "cv = CountVectorizer()"
   ]
  },
  {
   "cell_type": "code",
   "execution_count": null,
   "metadata": {
    "execution": {
     "iopub.execute_input": "2022-07-10T10:43:35.920425Z",
     "iopub.status.busy": "2022-07-10T10:43:35.920034Z",
     "iopub.status.idle": "2022-07-10T10:43:36.082799Z",
     "shell.execute_reply": "2022-07-10T10:43:36.081839Z",
     "shell.execute_reply.started": "2022-07-10T10:43:35.920387Z"
    }
   },
   "outputs": [],
   "source": [
    "## toarray to convert from sparse array to dense array\n",
    "X=cv.fit_transform(df['transformed_msg']).toarray()"
   ]
  },
  {
   "cell_type": "code",
   "execution_count": null,
   "metadata": {
    "execution": {
     "iopub.execute_input": "2022-07-10T10:43:36.084582Z",
     "iopub.status.busy": "2022-07-10T10:43:36.084138Z",
     "iopub.status.idle": "2022-07-10T10:43:36.096024Z",
     "shell.execute_reply": "2022-07-10T10:43:36.094183Z",
     "shell.execute_reply.started": "2022-07-10T10:43:36.084539Z"
    }
   },
   "outputs": [],
   "source": [
    "X.shape"
   ]
  },
  {
   "cell_type": "markdown",
   "metadata": {},
   "source": [
    "*5169 SMS 6629 words*"
   ]
  },
  {
   "cell_type": "code",
   "execution_count": null,
   "metadata": {
    "execution": {
     "iopub.execute_input": "2022-07-10T10:43:36.097818Z",
     "iopub.status.busy": "2022-07-10T10:43:36.097262Z",
     "iopub.status.idle": "2022-07-10T10:43:36.105234Z",
     "shell.execute_reply": "2022-07-10T10:43:36.104257Z",
     "shell.execute_reply.started": "2022-07-10T10:43:36.09764Z"
    }
   },
   "outputs": [],
   "source": [
    "y=df['message_type'].values"
   ]
  },
  {
   "cell_type": "markdown",
   "metadata": {},
   "source": [
    "***Now we'll do TRAIN TEST SPLIT***"
   ]
  },
  {
   "cell_type": "code",
   "execution_count": null,
   "metadata": {
    "execution": {
     "iopub.execute_input": "2022-07-10T10:43:36.107266Z",
     "iopub.status.busy": "2022-07-10T10:43:36.10647Z",
     "iopub.status.idle": "2022-07-10T10:43:36.116866Z",
     "shell.execute_reply": "2022-07-10T10:43:36.115905Z",
     "shell.execute_reply.started": "2022-07-10T10:43:36.107235Z"
    }
   },
   "outputs": [],
   "source": [
    "from sklearn.model_selection import train_test_split"
   ]
  },
  {
   "cell_type": "code",
   "execution_count": null,
   "metadata": {
    "execution": {
     "iopub.execute_input": "2022-07-10T10:43:36.118356Z",
     "iopub.status.busy": "2022-07-10T10:43:36.117954Z",
     "iopub.status.idle": "2022-07-10T10:43:36.275198Z",
     "shell.execute_reply": "2022-07-10T10:43:36.273938Z",
     "shell.execute_reply.started": "2022-07-10T10:43:36.118315Z"
    }
   },
   "outputs": [],
   "source": [
    "X_train,X_test,y_train,y_test = train_test_split(X,y,test_size=0.2,random_state=2)"
   ]
  },
  {
   "cell_type": "code",
   "execution_count": null,
   "metadata": {
    "execution": {
     "iopub.execute_input": "2022-07-10T10:43:36.276841Z",
     "iopub.status.busy": "2022-07-10T10:43:36.276486Z",
     "iopub.status.idle": "2022-07-10T10:43:36.281994Z",
     "shell.execute_reply": "2022-07-10T10:43:36.28098Z",
     "shell.execute_reply.started": "2022-07-10T10:43:36.276797Z"
    }
   },
   "outputs": [],
   "source": [
    "from sklearn.naive_bayes import GaussianNB,BernoulliNB, MultinomialNB\n",
    "from sklearn.metrics import accuracy_score,confusion_matrix,precision_score"
   ]
  },
  {
   "cell_type": "code",
   "execution_count": null,
   "metadata": {
    "execution": {
     "iopub.execute_input": "2022-07-10T10:43:36.283455Z",
     "iopub.status.busy": "2022-07-10T10:43:36.283173Z",
     "iopub.status.idle": "2022-07-10T10:43:36.29213Z",
     "shell.execute_reply": "2022-07-10T10:43:36.291343Z",
     "shell.execute_reply.started": "2022-07-10T10:43:36.28342Z"
    }
   },
   "outputs": [],
   "source": [
    "gnb = GaussianNB()\n",
    "bnb = BernoulliNB()\n",
    "mnb = MultinomialNB()"
   ]
  },
  {
   "cell_type": "code",
   "execution_count": null,
   "metadata": {
    "execution": {
     "iopub.execute_input": "2022-07-10T10:43:36.293323Z",
     "iopub.status.busy": "2022-07-10T10:43:36.293032Z",
     "iopub.status.idle": "2022-07-10T10:43:36.909944Z",
     "shell.execute_reply": "2022-07-10T10:43:36.908607Z",
     "shell.execute_reply.started": "2022-07-10T10:43:36.293282Z"
    }
   },
   "outputs": [],
   "source": [
    "gnb.fit(X_train,y_train)\n",
    "y_pred1= gnb.predict(X_test)\n",
    "print('Accuracy score of Gaussian NB is: ',accuracy_score(y_test,y_pred1))\n",
    "print('Confusion Matrix of Guassian NB is: ',confusion_matrix(y_test,y_pred1))\n",
    "print('Precision score of the Gaussian NB is',precision_score(y_test,y_pred1))\n"
   ]
  },
  {
   "cell_type": "markdown",
   "metadata": {},
   "source": [
    "**we want to reduce false postives as it is a high precision model**\n"
   ]
  },
  {
   "cell_type": "code",
   "execution_count": null,
   "metadata": {
    "execution": {
     "iopub.execute_input": "2022-07-10T10:43:36.911754Z",
     "iopub.status.busy": "2022-07-10T10:43:36.91144Z",
     "iopub.status.idle": "2022-07-10T10:43:37.512819Z",
     "shell.execute_reply": "2022-07-10T10:43:37.511533Z",
     "shell.execute_reply.started": "2022-07-10T10:43:36.911726Z"
    }
   },
   "outputs": [],
   "source": [
    "mnb.fit(X_train,y_train)\n",
    "y_pred2=mnb.predict(X_test)\n",
    "print('Accuracy score of Multinomial NB is: ',accuracy_score(y_test,y_pred2))\n",
    "print('Confusion Matrix of Multinomial NB is: ',confusion_matrix(y_test,y_pred2))\n",
    "print('Precision score of the Multinomial NB is',precision_score(y_test,y_pred2))\n",
    "\n",
    "\n"
   ]
  },
  {
   "cell_type": "code",
   "execution_count": null,
   "metadata": {
    "execution": {
     "iopub.execute_input": "2022-07-10T10:43:37.515212Z",
     "iopub.status.busy": "2022-07-10T10:43:37.514769Z",
     "iopub.status.idle": "2022-07-10T10:43:38.120391Z",
     "shell.execute_reply": "2022-07-10T10:43:38.116011Z",
     "shell.execute_reply.started": "2022-07-10T10:43:37.515168Z"
    }
   },
   "outputs": [],
   "source": [
    "bnb.fit(X_train,y_train)\n",
    "y_pred3=bnb.predict(X_test)\n",
    "print('Accuracy score of Bernoulli NB is: ',accuracy_score(y_test,y_pred3))\n",
    "print('Confusion Matrix of Bernoulli NB is: ',confusion_matrix(y_test,y_pred3))\n",
    "print('Precision score of the Bernoulli NB is',precision_score(y_test,y_pred3))\n",
    "\n"
   ]
  },
  {
   "cell_type": "markdown",
   "metadata": {},
   "source": [
    "**This is an imbalanced data so precision score matters the most**"
   ]
  },
  {
   "cell_type": "markdown",
   "metadata": {},
   "source": [
    "## Lets try with TFID Vectorizer"
   ]
  },
  {
   "cell_type": "code",
   "execution_count": null,
   "metadata": {
    "execution": {
     "iopub.execute_input": "2022-07-10T10:43:38.122906Z",
     "iopub.status.busy": "2022-07-10T10:43:38.122448Z",
     "iopub.status.idle": "2022-07-10T10:43:38.129464Z",
     "shell.execute_reply": "2022-07-10T10:43:38.128076Z",
     "shell.execute_reply.started": "2022-07-10T10:43:38.122862Z"
    }
   },
   "outputs": [],
   "source": [
    "from sklearn.feature_extraction.text import TfidfVectorizer"
   ]
  },
  {
   "cell_type": "code",
   "execution_count": null,
   "metadata": {
    "execution": {
     "iopub.execute_input": "2022-07-10T10:43:38.131719Z",
     "iopub.status.busy": "2022-07-10T10:43:38.131265Z",
     "iopub.status.idle": "2022-07-10T10:43:38.141392Z",
     "shell.execute_reply": "2022-07-10T10:43:38.140124Z",
     "shell.execute_reply.started": "2022-07-10T10:43:38.131671Z"
    }
   },
   "outputs": [],
   "source": [
    "tfidf= TfidfVectorizer(max_features=3000)"
   ]
  },
  {
   "cell_type": "markdown",
   "metadata": {},
   "source": [
    "### Done for Model Improvement--> Scaling"
   ]
  },
  {
   "cell_type": "code",
   "execution_count": null,
   "metadata": {
    "execution": {
     "iopub.execute_input": "2022-07-10T10:43:38.144033Z",
     "iopub.status.busy": "2022-07-10T10:43:38.143421Z",
     "iopub.status.idle": "2022-07-10T10:43:38.391715Z",
     "shell.execute_reply": "2022-07-10T10:43:38.390768Z",
     "shell.execute_reply.started": "2022-07-10T10:43:38.143983Z"
    }
   },
   "outputs": [],
   "source": [
    "X=tfidf.fit_transform(df['transformed_msg']).toarray()"
   ]
  },
  {
   "cell_type": "code",
   "execution_count": null,
   "metadata": {
    "execution": {
     "iopub.execute_input": "2022-07-10T10:43:38.393449Z",
     "iopub.status.busy": "2022-07-10T10:43:38.393148Z",
     "iopub.status.idle": "2022-07-10T10:43:38.400303Z",
     "shell.execute_reply": "2022-07-10T10:43:38.399177Z",
     "shell.execute_reply.started": "2022-07-10T10:43:38.393422Z"
    }
   },
   "outputs": [],
   "source": [
    "X.shape"
   ]
  },
  {
   "cell_type": "code",
   "execution_count": null,
   "metadata": {
    "execution": {
     "iopub.execute_input": "2022-07-10T10:43:38.402919Z",
     "iopub.status.busy": "2022-07-10T10:43:38.402292Z",
     "iopub.status.idle": "2022-07-10T10:43:38.411412Z",
     "shell.execute_reply": "2022-07-10T10:43:38.410321Z",
     "shell.execute_reply.started": "2022-07-10T10:43:38.402875Z"
    }
   },
   "outputs": [],
   "source": [
    "y=df['message_type'].values"
   ]
  },
  {
   "cell_type": "code",
   "execution_count": null,
   "metadata": {
    "execution": {
     "iopub.execute_input": "2022-07-10T10:43:38.413111Z",
     "iopub.status.busy": "2022-07-10T10:43:38.412747Z",
     "iopub.status.idle": "2022-07-10T10:43:38.421449Z",
     "shell.execute_reply": "2022-07-10T10:43:38.420549Z",
     "shell.execute_reply.started": "2022-07-10T10:43:38.413082Z"
    }
   },
   "outputs": [],
   "source": [
    "from sklearn.model_selection import train_test_split"
   ]
  },
  {
   "cell_type": "code",
   "execution_count": null,
   "metadata": {
    "execution": {
     "iopub.execute_input": "2022-07-10T10:43:38.423672Z",
     "iopub.status.busy": "2022-07-10T10:43:38.423247Z",
     "iopub.status.idle": "2022-07-10T10:43:38.48612Z",
     "shell.execute_reply": "2022-07-10T10:43:38.485177Z",
     "shell.execute_reply.started": "2022-07-10T10:43:38.423631Z"
    }
   },
   "outputs": [],
   "source": [
    "X_train,X_test,y_train,y_test = train_test_split(X,y,test_size=0.2,random_state=2)"
   ]
  },
  {
   "cell_type": "code",
   "execution_count": null,
   "metadata": {
    "execution": {
     "iopub.execute_input": "2022-07-10T10:43:38.487548Z",
     "iopub.status.busy": "2022-07-10T10:43:38.487258Z",
     "iopub.status.idle": "2022-07-10T10:43:38.492979Z",
     "shell.execute_reply": "2022-07-10T10:43:38.491989Z",
     "shell.execute_reply.started": "2022-07-10T10:43:38.48752Z"
    }
   },
   "outputs": [],
   "source": [
    "gnb = GaussianNB()\n",
    "bnb = BernoulliNB()\n",
    "mnb = MultinomialNB()"
   ]
  },
  {
   "cell_type": "code",
   "execution_count": null,
   "metadata": {
    "execution": {
     "iopub.execute_input": "2022-07-10T10:43:38.494729Z",
     "iopub.status.busy": "2022-07-10T10:43:38.494396Z",
     "iopub.status.idle": "2022-07-10T10:43:38.737774Z",
     "shell.execute_reply": "2022-07-10T10:43:38.73673Z",
     "shell.execute_reply.started": "2022-07-10T10:43:38.494698Z"
    }
   },
   "outputs": [],
   "source": [
    "gnb.fit(X_train,y_train)\n",
    "y_pred1= gnb.predict(X_test)\n",
    "print('Accuracy score of Gaussian NB is: ',accuracy_score(y_test,y_pred1))\n",
    "print('Confusion Matrix of Guassian NB is: ',confusion_matrix(y_test,y_pred1))\n",
    "print('Precision score of the Gaussian NB is',precision_score(y_test,y_pred1))\n"
   ]
  },
  {
   "cell_type": "code",
   "execution_count": null,
   "metadata": {
    "execution": {
     "iopub.execute_input": "2022-07-10T10:43:38.739449Z",
     "iopub.status.busy": "2022-07-10T10:43:38.739162Z",
     "iopub.status.idle": "2022-07-10T10:43:38.792222Z",
     "shell.execute_reply": "2022-07-10T10:43:38.790846Z",
     "shell.execute_reply.started": "2022-07-10T10:43:38.739423Z"
    }
   },
   "outputs": [],
   "source": [
    "mnb.fit(X_train,y_train)\n",
    "y_pred2=mnb.predict(X_test)\n",
    "print('Accuracy score of Multinomial NB is: ',accuracy_score(y_test,y_pred2))\n",
    "print('Confusion Matrix of Multinomial NB is: ',confusion_matrix(y_test,y_pred2))\n",
    "print('Precision score of the Multinomial NB is',precision_score(y_test,y_pred2))\n"
   ]
  },
  {
   "cell_type": "markdown",
   "metadata": {},
   "source": [
    "**Here precision is 1 which is very good as there will be no FALSE POSITIVE**"
   ]
  },
  {
   "cell_type": "code",
   "execution_count": null,
   "metadata": {
    "execution": {
     "iopub.execute_input": "2022-07-10T10:43:38.794911Z",
     "iopub.status.busy": "2022-07-10T10:43:38.794353Z",
     "iopub.status.idle": "2022-07-10T10:43:38.98428Z",
     "shell.execute_reply": "2022-07-10T10:43:38.982997Z",
     "shell.execute_reply.started": "2022-07-10T10:43:38.794864Z"
    }
   },
   "outputs": [],
   "source": [
    "bnb.fit(X_train,y_train)\n",
    "y_pred3=bnb.predict(X_test)\n",
    "print('Accuracy score of Bernoulli NB is: ',accuracy_score(y_test,y_pred3))\n",
    "print('Confusion Matrix of Bernoulli NB is: ',confusion_matrix(y_test,y_pred3))\n",
    "print('Precision score of the Bernoulli NB is',precision_score(y_test,y_pred3))\n"
   ]
  },
  {
   "cell_type": "markdown",
   "metadata": {},
   "source": [
    "## We are chosing MNB with TFIDF"
   ]
  },
  {
   "cell_type": "markdown",
   "metadata": {},
   "source": [
    "### *Lets compare other classification algorithms with MNB*"
   ]
  },
  {
   "cell_type": "code",
   "execution_count": null,
   "metadata": {
    "execution": {
     "iopub.execute_input": "2022-07-10T10:43:38.986923Z",
     "iopub.status.busy": "2022-07-10T10:43:38.986056Z",
     "iopub.status.idle": "2022-07-10T10:43:38.995731Z",
     "shell.execute_reply": "2022-07-10T10:43:38.99454Z",
     "shell.execute_reply.started": "2022-07-10T10:43:38.986871Z"
    }
   },
   "outputs": [],
   "source": [
    "from sklearn.linear_model import LogisticRegression\n",
    "from sklearn.svm import SVC\n",
    "from sklearn.naive_bayes import MultinomialNB\n",
    "from sklearn.tree import DecisionTreeClassifier\n",
    "from sklearn.neighbors import KNeighborsClassifier\n",
    "from sklearn.ensemble import RandomForestClassifier\n",
    "from sklearn.ensemble import AdaBoostClassifier\n",
    "from sklearn.ensemble import BaggingClassifier\n",
    "from sklearn.ensemble import ExtraTreesClassifier\n",
    "from sklearn.ensemble import GradientBoostingClassifier\n",
    "from xgboost import XGBClassifier"
   ]
  },
  {
   "cell_type": "code",
   "execution_count": null,
   "metadata": {
    "execution": {
     "iopub.execute_input": "2022-07-10T10:43:38.998089Z",
     "iopub.status.busy": "2022-07-10T10:43:38.99735Z",
     "iopub.status.idle": "2022-07-10T10:43:39.01206Z",
     "shell.execute_reply": "2022-07-10T10:43:39.010536Z",
     "shell.execute_reply.started": "2022-07-10T10:43:38.998042Z"
    }
   },
   "outputs": [],
   "source": [
    "#Creating objects of every algorithm\n",
    "svc = SVC(kernel='sigmoid', gamma=1.0)\n",
    "knc = KNeighborsClassifier()\n",
    "mnb = MultinomialNB()\n",
    "dtc = DecisionTreeClassifier(max_depth=5)\n",
    "lrc = LogisticRegression(solver='liblinear', penalty='l1')\n",
    "rfc = RandomForestClassifier(n_estimators=50, random_state=2)\n",
    "abc = AdaBoostClassifier(n_estimators=50, random_state=2)\n",
    "bc = BaggingClassifier(n_estimators=50, random_state=2)\n",
    "etc = ExtraTreesClassifier(n_estimators=50, random_state=2)\n",
    "gbdt = GradientBoostingClassifier(n_estimators=50,random_state=2)\n",
    "xgb = XGBClassifier(n_estimators=50,random_state=2)"
   ]
  },
  {
   "cell_type": "code",
   "execution_count": null,
   "metadata": {
    "execution": {
     "iopub.execute_input": "2022-07-10T10:43:39.014712Z",
     "iopub.status.busy": "2022-07-10T10:43:39.013968Z",
     "iopub.status.idle": "2022-07-10T10:43:39.028147Z",
     "shell.execute_reply": "2022-07-10T10:43:39.026846Z",
     "shell.execute_reply.started": "2022-07-10T10:43:39.014668Z"
    }
   },
   "outputs": [],
   "source": [
    "# create a dictionary of classifiers\n",
    "clfs = {\n",
    "    'SVC' : svc,\n",
    "    'KN' : knc, \n",
    "    'NB': mnb, \n",
    "    'DT': dtc, \n",
    "    'LR': lrc, \n",
    "    'RF': rfc, \n",
    "    'AdaBoost': abc, \n",
    "    'BgC': bc, \n",
    "    'ETC': etc,\n",
    "    'GBDT':gbdt,\n",
    "    'xgb':xgb\n",
    "}"
   ]
  },
  {
   "cell_type": "code",
   "execution_count": null,
   "metadata": {
    "execution": {
     "iopub.execute_input": "2022-07-10T10:43:39.039355Z",
     "iopub.status.busy": "2022-07-10T10:43:39.035247Z",
     "iopub.status.idle": "2022-07-10T10:43:39.047555Z",
     "shell.execute_reply": "2022-07-10T10:43:39.046286Z",
     "shell.execute_reply.started": "2022-07-10T10:43:39.039302Z"
    }
   },
   "outputs": [],
   "source": [
    "def train_classifier(clf,X_train,y_train,X_test,y_test):\n",
    "    clf.fit(X_train,y_train)\n",
    "    y_pred = clf.predict(X_test)\n",
    "    accuracy = accuracy_score(y_test,y_pred)\n",
    "    precision = precision_score(y_test,y_pred)\n",
    "    \n",
    "    return accuracy,precision"
   ]
  },
  {
   "cell_type": "code",
   "execution_count": null,
   "metadata": {
    "execution": {
     "iopub.execute_input": "2022-07-10T10:43:39.050887Z",
     "iopub.status.busy": "2022-07-10T10:43:39.049632Z",
     "iopub.status.idle": "2022-07-10T10:43:47.399617Z",
     "shell.execute_reply": "2022-07-10T10:43:47.398843Z",
     "shell.execute_reply.started": "2022-07-10T10:43:39.050826Z"
    }
   },
   "outputs": [],
   "source": [
    "train_classifier(svc,X_train,y_train,X_test,y_test)"
   ]
  },
  {
   "cell_type": "code",
   "execution_count": null,
   "metadata": {
    "execution": {
     "iopub.execute_input": "2022-07-10T10:43:47.401184Z",
     "iopub.status.busy": "2022-07-10T10:43:47.400859Z",
     "iopub.status.idle": "2022-07-10T10:45:54.609653Z",
     "shell.execute_reply": "2022-07-10T10:45:54.608822Z",
     "shell.execute_reply.started": "2022-07-10T10:43:47.401154Z"
    }
   },
   "outputs": [],
   "source": [
    "accuracy_scores = []\n",
    "precision_scores = []\n",
    "\n",
    "for name,clf in clfs.items():\n",
    "    \n",
    "    current_accuracy,current_precision = train_classifier(clf, X_train,y_train,X_test,y_test)\n",
    "    \n",
    "    print(\"For \",name)\n",
    "    print(\"Accuracy - \",current_accuracy)\n",
    "    print(\"Precision - \",current_precision)\n",
    "    \n",
    "    accuracy_scores.append(current_accuracy)\n",
    "    precision_scores.append(current_precision)\n"
   ]
  },
  {
   "cell_type": "code",
   "execution_count": null,
   "metadata": {
    "execution": {
     "iopub.execute_input": "2022-07-10T10:45:54.611919Z",
     "iopub.status.busy": "2022-07-10T10:45:54.611092Z",
     "iopub.status.idle": "2022-07-10T10:45:54.619572Z",
     "shell.execute_reply": "2022-07-10T10:45:54.618547Z",
     "shell.execute_reply.started": "2022-07-10T10:45:54.611879Z"
    }
   },
   "outputs": [],
   "source": [
    "performance_df = pd.DataFrame({'Algorithm':clfs.keys(),'Accuracy':accuracy_scores,'Precision':precision_scores}).sort_values('Precision',ascending=False)"
   ]
  },
  {
   "cell_type": "code",
   "execution_count": null,
   "metadata": {
    "execution": {
     "iopub.execute_input": "2022-07-10T10:45:54.621978Z",
     "iopub.status.busy": "2022-07-10T10:45:54.621189Z",
     "iopub.status.idle": "2022-07-10T10:45:54.638517Z",
     "shell.execute_reply": "2022-07-10T10:45:54.637134Z",
     "shell.execute_reply.started": "2022-07-10T10:45:54.621941Z"
    }
   },
   "outputs": [],
   "source": [
    "performance_df"
   ]
  },
  {
   "cell_type": "code",
   "execution_count": null,
   "metadata": {
    "execution": {
     "iopub.execute_input": "2022-07-10T10:45:54.642418Z",
     "iopub.status.busy": "2022-07-10T10:45:54.641453Z",
     "iopub.status.idle": "2022-07-10T10:45:54.649128Z",
     "shell.execute_reply": "2022-07-10T10:45:54.648001Z",
     "shell.execute_reply.started": "2022-07-10T10:45:54.642386Z"
    }
   },
   "outputs": [],
   "source": [
    "performance_df1 = pd.melt(performance_df, id_vars = \"Algorithm\")"
   ]
  },
  {
   "cell_type": "code",
   "execution_count": null,
   "metadata": {
    "execution": {
     "iopub.execute_input": "2022-07-10T10:45:54.651228Z",
     "iopub.status.busy": "2022-07-10T10:45:54.650648Z",
     "iopub.status.idle": "2022-07-10T10:45:54.672304Z",
     "shell.execute_reply": "2022-07-10T10:45:54.671476Z",
     "shell.execute_reply.started": "2022-07-10T10:45:54.651199Z"
    }
   },
   "outputs": [],
   "source": [
    "performance_df1"
   ]
  },
  {
   "cell_type": "code",
   "execution_count": null,
   "metadata": {
    "execution": {
     "iopub.execute_input": "2022-07-10T10:45:54.674876Z",
     "iopub.status.busy": "2022-07-10T10:45:54.673996Z",
     "iopub.status.idle": "2022-07-10T10:45:55.041313Z",
     "shell.execute_reply": "2022-07-10T10:45:55.040272Z",
     "shell.execute_reply.started": "2022-07-10T10:45:54.674778Z"
    }
   },
   "outputs": [],
   "source": [
    "sns.catplot(x = 'Algorithm', y='value', \n",
    "               hue = 'variable',data=performance_df1, kind='bar',height=5)\n",
    "plt.ylim(0.5,1.0)\n",
    "plt.xticks(rotation='vertical')\n",
    "plt.show()"
   ]
  },
  {
   "cell_type": "markdown",
   "metadata": {},
   "source": [
    "# 5. Model Improvement"
   ]
  },
  {
   "cell_type": "markdown",
   "metadata": {},
   "source": [
    "### 5.1 Change the parameter *max_features* in TFIDF\n",
    "### 5.2 "
   ]
  },
  {
   "cell_type": "code",
   "execution_count": null,
   "metadata": {
    "execution": {
     "iopub.execute_input": "2022-07-10T10:45:55.043621Z",
     "iopub.status.busy": "2022-07-10T10:45:55.042651Z",
     "iopub.status.idle": "2022-07-10T10:45:55.051369Z",
     "shell.execute_reply": "2022-07-10T10:45:55.050385Z",
     "shell.execute_reply.started": "2022-07-10T10:45:55.043581Z"
    }
   },
   "outputs": [],
   "source": [
    "temp_df = pd.DataFrame({'Algorithm':clfs.keys(),'Accuracy_max_ft_3000':accuracy_scores,'Precision_max_ft_3000':precision_scores}).sort_values('Precision_max_ft_3000',ascending=False)"
   ]
  },
  {
   "cell_type": "code",
   "execution_count": null,
   "metadata": {
    "execution": {
     "iopub.execute_input": "2022-07-10T10:45:55.053801Z",
     "iopub.status.busy": "2022-07-10T10:45:55.053194Z",
     "iopub.status.idle": "2022-07-10T10:45:55.062752Z",
     "shell.execute_reply": "2022-07-10T10:45:55.061879Z",
     "shell.execute_reply.started": "2022-07-10T10:45:55.053756Z"
    }
   },
   "outputs": [],
   "source": [
    "temp_df = pd.DataFrame({'Algorithm':clfs.keys(),'Accuracy_scaling':accuracy_scores,'Precision_scaling':precision_scores}).sort_values('Precision_scaling',ascending=False)"
   ]
  },
  {
   "cell_type": "code",
   "execution_count": null,
   "metadata": {
    "execution": {
     "iopub.execute_input": "2022-07-10T10:45:55.064491Z",
     "iopub.status.busy": "2022-07-10T10:45:55.063986Z",
     "iopub.status.idle": "2022-07-10T10:45:55.076213Z",
     "shell.execute_reply": "2022-07-10T10:45:55.075178Z",
     "shell.execute_reply.started": "2022-07-10T10:45:55.064464Z"
    }
   },
   "outputs": [],
   "source": [
    "new_df = performance_df.merge(temp_df,on='Algorithm')"
   ]
  },
  {
   "cell_type": "code",
   "execution_count": null,
   "metadata": {
    "execution": {
     "iopub.execute_input": "2022-07-10T10:45:55.07864Z",
     "iopub.status.busy": "2022-07-10T10:45:55.078335Z",
     "iopub.status.idle": "2022-07-10T10:45:55.090191Z",
     "shell.execute_reply": "2022-07-10T10:45:55.089281Z",
     "shell.execute_reply.started": "2022-07-10T10:45:55.078612Z"
    }
   },
   "outputs": [],
   "source": [
    "new_df_scaled = new_df.merge(temp_df,on='Algorithm')"
   ]
  },
  {
   "cell_type": "code",
   "execution_count": null,
   "metadata": {
    "execution": {
     "iopub.execute_input": "2022-07-10T10:45:55.092047Z",
     "iopub.status.busy": "2022-07-10T10:45:55.09134Z",
     "iopub.status.idle": "2022-07-10T10:45:55.102149Z",
     "shell.execute_reply": "2022-07-10T10:45:55.101204Z",
     "shell.execute_reply.started": "2022-07-10T10:45:55.091994Z"
    }
   },
   "outputs": [],
   "source": [
    "temp_df = pd.DataFrame({'Algorithm':clfs.keys(),'Accuracy_num_chars':accuracy_scores,'Precision_num_chars':precision_scores}).sort_values('Precision_num_chars',ascending=False)"
   ]
  },
  {
   "cell_type": "code",
   "execution_count": null,
   "metadata": {
    "execution": {
     "iopub.execute_input": "2022-07-10T10:45:55.10424Z",
     "iopub.status.busy": "2022-07-10T10:45:55.103399Z",
     "iopub.status.idle": "2022-07-10T10:45:55.129688Z",
     "shell.execute_reply": "2022-07-10T10:45:55.128938Z",
     "shell.execute_reply.started": "2022-07-10T10:45:55.104208Z"
    }
   },
   "outputs": [],
   "source": [
    "new_df_scaled.merge(temp_df,on='Algorithm')"
   ]
  },
  {
   "cell_type": "code",
   "execution_count": null,
   "metadata": {
    "execution": {
     "iopub.execute_input": "2022-07-10T10:45:55.131389Z",
     "iopub.status.busy": "2022-07-10T10:45:55.1309Z",
     "iopub.status.idle": "2022-07-10T10:45:55.151965Z",
     "shell.execute_reply": "2022-07-10T10:45:55.151017Z",
     "shell.execute_reply.started": "2022-07-10T10:45:55.131358Z"
    }
   },
   "outputs": [],
   "source": [
    "import pickle\n",
    "pickle.dump(tfidf,open('vectorizer.pkl','wb'))\n",
    "#wb --> write binary\n",
    "pickle.dump(mnb,open('model.pkl','wb'))"
   ]
  },
  {
   "cell_type": "code",
   "execution_count": null,
   "metadata": {},
   "outputs": [],
   "source": []
  }
 ],
 "metadata": {
  "kernelspec": {
   "display_name": "Python 3 (ipykernel)",
   "language": "python",
   "name": "python3"
  },
  "language_info": {
   "codemirror_mode": {
    "name": "ipython",
    "version": 3
   },
   "file_extension": ".py",
   "mimetype": "text/x-python",
   "name": "python",
   "nbconvert_exporter": "python",
   "pygments_lexer": "ipython3",
   "version": "3.10.5"
  }
 },
 "nbformat": 4,
 "nbformat_minor": 4
}
